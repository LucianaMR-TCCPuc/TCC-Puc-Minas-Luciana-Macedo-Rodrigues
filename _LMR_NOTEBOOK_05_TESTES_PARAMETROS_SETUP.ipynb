{
 "cells": [
  {
   "cell_type": "markdown",
   "metadata": {},
   "source": [
    "# Uso de modelos preditivos de Machine Learning na gestão de risco aduaneira para identificação de empresas “de fachada” nas operações de importação\n",
    "TCC PUC Minas - LUCIANA MACEDO RODRIGUES"
   ]
  },
  {
   "cell_type": "markdown",
   "metadata": {},
   "source": [
    "### NOTEBOOK 5 - TESTE DE PARÂMETROS DE SETUP DE CLASSIFICAÇÃO NO PYCARET\n",
    "\n",
    "### 1 - Configurações iniciais"
   ]
  },
  {
   "cell_type": "code",
   "execution_count": null,
   "metadata": {},
   "outputs": [],
   "source": [
    "# Importando os pacotes necessários\n",
    "import pandas as pd\n",
    "import numpy as np\n",
    "from pycaret.classification import *"
   ]
  },
  {
   "cell_type": "markdown",
   "metadata": {},
   "source": [
    "### 2 - Leitura do dataframe final"
   ]
  },
  {
   "cell_type": "code",
   "execution_count": null,
   "metadata": {},
   "outputs": [],
   "source": [
    "df_final = pd.read_csv('arquivos/df_final.csv', sep = ',')\n",
    "df_final.head()"
   ]
  },
  {
   "cell_type": "code",
   "execution_count": null,
   "metadata": {},
   "outputs": [],
   "source": [
    "# Resumo de informações do dataframe final \n",
    "df_final.info()"
   ]
  },
  {
   "cell_type": "code",
   "execution_count": null,
   "metadata": {},
   "outputs": [],
   "source": [
    "# Corrigindo o tipo da variável alvo\n",
    "df_final = df_final.astype({'TARGET': 'object'})"
   ]
  },
  {
   "cell_type": "code",
   "execution_count": null,
   "metadata": {},
   "outputs": [],
   "source": [
    "# qtde valores únicos\n",
    "df_final.nunique()"
   ]
  },
  {
   "cell_type": "code",
   "execution_count": null,
   "metadata": {},
   "outputs": [],
   "source": [
    "# Resumo da estatística descritiva das variáveis quantitativas\n",
    "df_final.describe()"
   ]
  },
  {
   "cell_type": "markdown",
   "metadata": {},
   "source": [
    "### 3 - Isolamento de uma amostra para predições simulando um cenário real"
   ]
  },
  {
   "cell_type": "code",
   "execution_count": null,
   "metadata": {},
   "outputs": [],
   "source": [
    "# Separando 5% da amostra aleatóriamente\n",
    "data = df_final.sample(frac=0.95, random_state=786)\n",
    "data_pred = df_final.drop(data.index)\n",
    "data.reset_index(inplace=True, drop=True)\n",
    "data_pred.reset_index(inplace=True, drop=True)\n",
    "print('Dados para Modelagem (data) correspondendo a 95% do df_final: ' + str(data.shape))\n",
    "print('Dados para Predições (data_pred) correspondendo a 95% do df_final: ' + str(data_pred.shape))"
   ]
  },
  {
   "cell_type": "markdown",
   "metadata": {},
   "source": [
    "### 4 - Testes de parâmetros de setup sobre o conjunto de dados para modelagem (data)"
   ]
  },
  {
   "cell_type": "code",
   "execution_count": null,
   "metadata": {},
   "outputs": [],
   "source": [
    "# Default\n",
    "csf_exp101 = setup(data = data,\n",
    "                   target = 'TARGET',\n",
    "                   session_id=123,\n",
    "                   silent = True\n",
    "                   )"
   ]
  },
  {
   "cell_type": "code",
   "execution_count": null,
   "metadata": {},
   "outputs": [],
   "source": [
    "csf_exp101_top3 = compare_models(n_select = 3, sort = 'F1')"
   ]
  },
  {
   "cell_type": "code",
   "execution_count": null,
   "metadata": {},
   "outputs": [],
   "source": [
    "# Default + ordinal features\n",
    "csf_exp102 = setup(data = data,\n",
    "                   target = 'TARGET',\n",
    "                   session_id=123,\n",
    "                   silent = True,\n",
    "                   ordinal_features = {'EMP_PORTE':['ME','EPP','DEMAIS']} \n",
    "                   )"
   ]
  },
  {
   "cell_type": "code",
   "execution_count": null,
   "metadata": {},
   "outputs": [],
   "source": [
    "csf_exp102_top3 = compare_models(n_select = 3, sort = 'F1')"
   ]
  },
  {
   "cell_type": "code",
   "execution_count": null,
   "metadata": {},
   "outputs": [],
   "source": [
    "# Default + ordinal features + fix imbalance (SMOTE)\n",
    "csf_exp103 = setup(data = data,\n",
    "                   target = 'TARGET',\n",
    "                   session_id=123,\n",
    "                   silent = True,\n",
    "                   ordinal_features = {'EMP_PORTE':['ME','EPP','DEMAIS']}, \n",
    "                   fix_imbalance = True\n",
    "                                      )"
   ]
  },
  {
   "cell_type": "code",
   "execution_count": null,
   "metadata": {},
   "outputs": [],
   "source": [
    "csf_exp103_top3 = compare_models(n_select = 3, sort = 'F1')"
   ]
  },
  {
   "cell_type": "code",
   "execution_count": null,
   "metadata": {},
   "outputs": [],
   "source": [
    "# Default + ordinal features + fix imbalance (SMOTE) + high cardinality features\n",
    "csf_exp104 = setup(data = data,\n",
    "                   target = 'TARGET',\n",
    "                   session_id=123,\n",
    "                   silent = True,\n",
    "                   ordinal_features = {'EMP_PORTE':['ME','EPP','DEMAIS']}, \n",
    "                   fix_imbalance = True,\n",
    "                   high_cardinality_features = ['UF_EMP']\n",
    "                   )"
   ]
  },
  {
   "cell_type": "code",
   "execution_count": null,
   "metadata": {},
   "outputs": [],
   "source": [
    "csf_exp104_top3 = compare_models(n_select = 3, sort = 'F1')"
   ]
  },
  {
   "cell_type": "code",
   "execution_count": null,
   "metadata": {},
   "outputs": [],
   "source": [
    "# Default + ordinal features + fix imbalance (SMOTE) + high cardinality features + normalize (robust)\n",
    "csf_exp105 = setup(data = data,\n",
    "                   target = 'TARGET',\n",
    "                   session_id=123,\n",
    "                   silent = True,\n",
    "                   ordinal_features = {'EMP_PORTE':['ME','EPP','DEMAIS']}, \n",
    "                   fix_imbalance = True,\n",
    "                   high_cardinality_features = ['UF_EMP'],\n",
    "                   normalize = True, \n",
    "                   normalize_method = 'robust'\n",
    "                   )"
   ]
  },
  {
   "cell_type": "code",
   "execution_count": null,
   "metadata": {},
   "outputs": [],
   "source": [
    "# O parâmetro Normalize (método robust) só piorou as métricas do modelo - por isso não utlizaremos\n",
    "csf_exp105_top3 = compare_models(n_select = 3, sort = 'F1')"
   ]
  },
  {
   "cell_type": "code",
   "execution_count": null,
   "metadata": {},
   "outputs": [],
   "source": [
    "# Default + ordinal features + fix imbalance (SMOTE) + high cardinality features + normalize (minmax)\n",
    "csf_exp106 = setup(data = data,\n",
    "                   target = 'TARGET',\n",
    "                   session_id=123,\n",
    "                   silent = True,\n",
    "                   ordinal_features = {'EMP_PORTE':['ME','EPP','DEMAIS']}, \n",
    "                   fix_imbalance = True,\n",
    "                   high_cardinality_features = ['UF_EMP'],\n",
    "                   normalize = True,\n",
    "                  normalize_method = 'minmax')"
   ]
  },
  {
   "cell_type": "code",
   "execution_count": null,
   "metadata": {},
   "outputs": [],
   "source": [
    "# O parâmetro Normalize (método minmax) só piorou as métricas do modelo - por isso não utlizaremos\n",
    "csf_exp106_top3 = compare_models(n_select = 3, sort = 'F1')"
   ]
  },
  {
   "cell_type": "code",
   "execution_count": null,
   "metadata": {},
   "outputs": [],
   "source": [
    "# Default + ordinal features + fix imbalance (SMOTE) + high cardinality features + normalize (FALSE) + ignore low variance\n",
    "\n",
    "csf_exp107 = setup(data = data,\n",
    "                   target = 'TARGET',\n",
    "                   session_id=123,\n",
    "                   silent = True,\n",
    "                   ordinal_features = {'EMP_PORTE':['ME','EPP','DEMAIS']}, \n",
    "                   fix_imbalance = True,\n",
    "                   high_cardinality_features = ['UF_EMP'],\n",
    "                   ignore_low_variance = True\n",
    "                   )"
   ]
  },
  {
   "cell_type": "code",
   "execution_count": null,
   "metadata": {},
   "outputs": [],
   "source": [
    "# O parâmetro ignore low variance não trouxe nenhum ganho ao modelo (métricas idênticas ao cfs_exp104) \n",
    "csf_exp107_top3 = compare_models(n_select = 3, sort = 'F1')"
   ]
  },
  {
   "cell_type": "code",
   "execution_count": null,
   "metadata": {},
   "outputs": [],
   "source": [
    "# Default + ordinal features + fix imbalance (SMOTE) + high cardinality features + normalize (FALSE) \n",
    "# + ignore low variance + feature selection (threshold 0,8)\n",
    "\n",
    "csf_exp108 = setup(data = data,\n",
    "                   target = 'TARGET',\n",
    "                   session_id=123,\n",
    "                   silent = True,\n",
    "                   ordinal_features = {'EMP_PORTE':['ME','EPP','DEMAIS']}, \n",
    "                   fix_imbalance = True,\n",
    "                   high_cardinality_features = ['UF_EMP'],\n",
    "                   ignore_low_variance = True,\n",
    "                   feature_selection = True,\n",
    "                   feature_selection_threshold = 0.8 # default\n",
    "                   )"
   ]
  },
  {
   "cell_type": "code",
   "execution_count": null,
   "metadata": {},
   "outputs": [],
   "source": [
    "# O parâmetro ignore feature selection não trouxe nenhum ganho ao modelo (métricas idênticas ao cfs_exp104) \n",
    "%time\n",
    "csf_exp108_top3 = compare_models(n_select = 3, sort = 'F1')"
   ]
  },
  {
   "cell_type": "code",
   "execution_count": null,
   "metadata": {},
   "outputs": [],
   "source": [
    "# Default + ordinal features + fix imbalance (SMOTE) + high cardinality features + normalize (FALSE) \n",
    "# + ignore low variance + feature selection (threshold 0,4) + feature interaction\n",
    "csf_exp109 = setup(data = data,\n",
    "                   target = 'TARGET',\n",
    "                   session_id=123,\n",
    "                   silent = True,\n",
    "                   ordinal_features = {'EMP_PORTE':['ME','EPP','DEMAIS']}, \n",
    "                   fix_imbalance = True,\n",
    "                   high_cardinality_features = ['UF_EMP'],\n",
    "                   ignore_low_variance = True,\n",
    "                   feature_selection = True,\n",
    "                   feature_selection_threshold = 0.4,\n",
    "                   feature_interaction = True\n",
    "                   )"
   ]
  },
  {
   "cell_type": "code",
   "execution_count": null,
   "metadata": {},
   "outputs": [],
   "source": [
    "# O parâmetro feature selection (thereshold 0,05 a 0,4) + feature interaction só piorou as métricas por isso não usaremos  \n",
    "%time\n",
    "csf_exp109_top3 = compare_models(n_select = 3, sort = 'F1')"
   ]
  },
  {
   "cell_type": "code",
   "execution_count": null,
   "metadata": {},
   "outputs": [],
   "source": [
    "# Default + ordinal features + fix imbalance (SMOTE) + high cardinality features + normalize (FALSE) \n",
    "# + ignore low variance + feature selection (threshold 0,4) + feature ratio\n",
    "csf_exp110 = setup(data = data,\n",
    "                   target = 'TARGET',\n",
    "                   session_id=123,\n",
    "                   silent = True,\n",
    "                   ordinal_features = {'EMP_PORTE':['ME','EPP','DEMAIS']}, \n",
    "                   fix_imbalance = True,\n",
    "                   high_cardinality_features = ['UF_EMP'],\n",
    "                   ignore_low_variance = True,\n",
    "                   #feature_selection = True,\n",
    "                   #feature_selection_threshold = 0.4,\n",
    "                   feature_ratio = True\n",
    "                   )"
   ]
  },
  {
   "cell_type": "code",
   "execution_count": null,
   "metadata": {},
   "outputs": [],
   "source": [
    "# O parâmetro feature ratio trouxe incremento das métricas\n",
    "csf_exp110_top3 = compare_models(n_select = 3, sort = 'F1')"
   ]
  },
  {
   "cell_type": "code",
   "execution_count": null,
   "metadata": {},
   "outputs": [],
   "source": [
    "# Default + ordinal features + fix imbalance (SMOTE) + high cardinality features + normalize (FALSE) \n",
    "# + ignore low variance + feature selection (threshold 0,4) + feature ratio + bin numeric features\n",
    "csf_exp111 = setup(data = data,\n",
    "                   target = 'TARGET',\n",
    "                   session_id=123,\n",
    "                   silent = True,\n",
    "                   ordinal_features = {'EMP_PORTE':['ME','EPP','DEMAIS']}, \n",
    "                   fix_imbalance = True,\n",
    "                   high_cardinality_features = ['UF_EMP'],\n",
    "                   ignore_low_variance = True,\n",
    "                   #feature_selection = True,\n",
    "                   #feature_selection_threshold = 0.4,\n",
    "                   #feature_ratio = True\n",
    "                   bin_numeric_features= ['EMP_CS_MAX', 'IMP_VOL',\n",
    "                                          'IMP_VAL', 'IMP_PESO', \n",
    "                                          'IMP_CUSTO', 'EMP_EMPREG', 'EMP_REC',\n",
    "                                          'ANOS_ATIVA']\n",
    "                   )"
   ]
  },
  {
   "cell_type": "code",
   "execution_count": null,
   "metadata": {},
   "outputs": [],
   "source": [
    "# O parâmetro bin numeric features só prejudicou as métricas\n",
    "csf_exp111_top3 = compare_models(n_select = 3, sort = 'F1')"
   ]
  },
  {
   "cell_type": "code",
   "execution_count": null,
   "metadata": {},
   "outputs": [],
   "source": [
    "# Remover outliers\n",
    "csf_exp112 = setup(data = data,\n",
    "                   target = 'TARGET',\n",
    "                   session_id=123,\n",
    "                   silent = True,\n",
    "                   ordinal_features = {'EMP_PORTE':['ME','EPP','DEMAIS']}, \n",
    "                   fix_imbalance = True,\n",
    "                   high_cardinality_features = ['UF_EMP'],\n",
    "                   ignore_low_variance = True,\n",
    "                   #feature_selection = True,\n",
    "                   #feature_selection_threshold = 0.4,\n",
    "                   feature_ratio = True,\n",
    "                   remove_outliers = True\n",
    "                   )"
   ]
  },
  {
   "cell_type": "code",
   "execution_count": null,
   "metadata": {},
   "outputs": [],
   "source": [
    "# Remover outliers com a metodologia do Pycaret sem normalizar não trouxe ganho nas métricas\n",
    "csf_exp112_top3 = compare_models(n_select = 3, sort = 'F1')"
   ]
  },
  {
   "cell_type": "code",
   "execution_count": null,
   "metadata": {},
   "outputs": [],
   "source": [
    "# normalize + remove outliers\n",
    "csf_exp113 = setup(data = data,\n",
    "                   target = 'TARGET',\n",
    "                   session_id=123,\n",
    "                   silent = True,\n",
    "                   ordinal_features = {'EMP_PORTE':['ME','EPP','DEMAIS']}, \n",
    "                   fix_imbalance = True,\n",
    "                   high_cardinality_features = ['UF_EMP'],\n",
    "                   ignore_low_variance = True,\n",
    "                   #feature_selection = True,\n",
    "                   #feature_selection_threshold = 0.4,\n",
    "                   feature_ratio = True,\n",
    "                   remove_outliers = True,\n",
    "                   normalize = True,\n",
    "                   normalize_method = 'robust'\n",
    "                   )"
   ]
  },
  {
   "cell_type": "code",
   "execution_count": null,
   "metadata": {},
   "outputs": [],
   "source": [
    "# Combinar normalize + remove outliers também só prejudicou as métricas\n",
    "csf_exp113_top3 = compare_models(n_select = 3, sort = 'F1')"
   ]
  },
  {
   "cell_type": "code",
   "execution_count": null,
   "metadata": {},
   "outputs": [],
   "source": [
    "# Remover a multicolinearidade com limites acima de 0,6 prejudicou as métricas, mas acima de 0,7 não houve alteração.\n",
    "csf_exp114_top3 = compare_models(n_select = 3, sort = 'F1')"
   ]
  },
  {
   "cell_type": "code",
   "execution_count": null,
   "metadata": {},
   "outputs": [],
   "source": [
    "# Stratify split sample\n",
    "csf_exp115 = setup(data = data,\n",
    "                   target = 'TARGET',\n",
    "                   session_id=123,\n",
    "                   silent = True,\n",
    "                   ordinal_features = {'EMP_PORTE':['ME','EPP','DEMAIS']}, \n",
    "                   fix_imbalance = True,\n",
    "                   high_cardinality_features = ['UF_EMP'],\n",
    "                   ignore_low_variance = True,\n",
    "                   #feature_selection = True,\n",
    "                   #feature_selection_threshold = 0.4,\n",
    "                   feature_ratio = True,\n",
    "                   remove_multicollinearity = True, \n",
    "                   multicollinearity_threshold = 0.7,\n",
    "                   data_split_stratify = True)"
   ]
  },
  {
   "cell_type": "code",
   "execution_count": null,
   "metadata": {},
   "outputs": [],
   "source": [
    "# Stratify não trouxe ganho para as métricas\n",
    "csf_exp115_top3 = compare_models(n_select = 3, sort = 'F1')"
   ]
  },
  {
   "cell_type": "code",
   "execution_count": null,
   "metadata": {},
   "outputs": [],
   "source": [
    "# Polinomial features\n",
    "csf_exp116 = setup(data = data,\n",
    "                   target = 'TARGET',\n",
    "                   session_id=123,\n",
    "                   silent = True,\n",
    "                   ordinal_features = {'EMP_PORTE':['ME','EPP','DEMAIS']}, \n",
    "                   fix_imbalance = True,\n",
    "                   high_cardinality_features = ['UF_EMP'],\n",
    "                   ignore_low_variance = True,\n",
    "                   feature_ratio = True,\n",
    "                   remove_multicollinearity = True, \n",
    "                   multicollinearity_threshold = 0.7,\n",
    "                   polynomial_features = True)"
   ]
  },
  {
   "cell_type": "code",
   "execution_count": null,
   "metadata": {},
   "outputs": [],
   "source": [
    "# polinomial não trouxe ganho para as métricas\n",
    "csf_exp116_top3 = compare_models(n_select = 3, sort = 'F1')"
   ]
  }
 ],
 "metadata": {
  "kernelspec": {
   "display_name": "Python 3",
   "language": "python",
   "name": "python3"
  },
  "language_info": {
   "codemirror_mode": {
    "name": "ipython",
    "version": 3
   },
   "file_extension": ".py",
   "mimetype": "text/x-python",
   "name": "python",
   "nbconvert_exporter": "python",
   "pygments_lexer": "ipython3",
   "version": "3.8.5"
  }
 },
 "nbformat": 4,
 "nbformat_minor": 4
}
