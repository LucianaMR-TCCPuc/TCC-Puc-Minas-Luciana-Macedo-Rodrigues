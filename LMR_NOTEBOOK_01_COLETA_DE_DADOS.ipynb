{
 "cells": [
  {
   "cell_type": "markdown",
   "metadata": {},
   "source": [
    "# \n",
    "# Utilização de Algorítmos de Machine Learning para Identificação de Empresas \"de Fachada\" em Operações de Importação\n",
    "TCC PUC Minas - LUCIANA MACEDO RODRIGUES"
   ]
  },
  {
   "cell_type": "markdown",
   "metadata": {},
   "source": [
    "### NOTEBOOK 1 - COLETA DOS DADOS"
   ]
  },
  {
   "cell_type": "markdown",
   "metadata": {},
   "source": [
    "### 1 - Configurações iniciais"
   ]
  },
  {
   "cell_type": "code",
   "execution_count": 1,
   "metadata": {},
   "outputs": [],
   "source": [
    "# Importando os pacotes necessários\n",
    "import pandas as pd\n",
    "import numpy as np"
   ]
  },
  {
   "cell_type": "code",
   "execution_count": 2,
   "metadata": {},
   "outputs": [
    {
     "data": {
      "text/plain": [
       "'1.4.2'"
      ]
     },
     "execution_count": 2,
     "metadata": {},
     "output_type": "execute_result"
    }
   ],
   "source": [
    "# Versão do pandas em uso\n",
    "pd.__version__"
   ]
  },
  {
   "cell_type": "markdown",
   "metadata": {},
   "source": [
    "### 2 - Leitura das bases de dados e verificações preliminares"
   ]
  },
  {
   "cell_type": "code",
   "execution_count": 3,
   "metadata": {},
   "outputs": [],
   "source": [
    "dadosADU = pd.read_csv('arquivos/dadosADU.csv', sep = ';')"
   ]
  },
  {
   "cell_type": "code",
   "execution_count": 4,
   "metadata": {},
   "outputs": [],
   "source": [
    "dadosCNPJ = pd.read_csv('arquivos/dadosCNPJ.csv', sep = ';')"
   ]
  },
  {
   "cell_type": "code",
   "execution_count": 5,
   "metadata": {},
   "outputs": [],
   "source": [
    "dadosDIRF = pd.read_csv('arquivos/dadosDIRF.csv', sep = ';')"
   ]
  },
  {
   "cell_type": "code",
   "execution_count": 6,
   "metadata": {},
   "outputs": [],
   "source": [
    "dadosRB = pd.read_csv('arquivos/dadosRB.csv', sep = ';')"
   ]
  },
  {
   "cell_type": "code",
   "execution_count": 7,
   "metadata": {},
   "outputs": [
    {
     "data": {
      "text/html": [
       "<div>\n",
       "<style scoped>\n",
       "    .dataframe tbody tr th:only-of-type {\n",
       "        vertical-align: middle;\n",
       "    }\n",
       "\n",
       "    .dataframe tbody tr th {\n",
       "        vertical-align: top;\n",
       "    }\n",
       "\n",
       "    .dataframe thead th {\n",
       "        text-align: right;\n",
       "    }\n",
       "</style>\n",
       "<table border=\"1\" class=\"dataframe\">\n",
       "  <thead>\n",
       "    <tr style=\"text-align: right;\">\n",
       "      <th></th>\n",
       "      <th>ID_EMP</th>\n",
       "      <th>UF_EMP</th>\n",
       "      <th>ANO SIT CAD EMP ADQUIR</th>\n",
       "      <th>SIT CAD EMP ADQUIR</th>\n",
       "      <th>MOTIVO SIT CAD EMP ADQUIR</th>\n",
       "      <th>IMP_VOL</th>\n",
       "      <th>IMP_VAL</th>\n",
       "      <th>IMP_PESO</th>\n",
       "      <th>IMP_CUSTO</th>\n",
       "    </tr>\n",
       "  </thead>\n",
       "  <tbody>\n",
       "    <tr>\n",
       "      <th>0</th>\n",
       "      <td>807</td>\n",
       "      <td>SP</td>\n",
       "      <td>2004.0</td>\n",
       "      <td>Ativa</td>\n",
       "      <td>NÃO INFORMADO</td>\n",
       "      <td>64</td>\n",
       "      <td>9211744</td>\n",
       "      <td>169</td>\n",
       "      <td>11017585</td>\n",
       "    </tr>\n",
       "    <tr>\n",
       "      <th>1</th>\n",
       "      <td>1392</td>\n",
       "      <td>SP</td>\n",
       "      <td>2005.0</td>\n",
       "      <td>Ativa</td>\n",
       "      <td>NÃO INFORMADO</td>\n",
       "      <td>1</td>\n",
       "      <td>31117</td>\n",
       "      <td>1</td>\n",
       "      <td>46250</td>\n",
       "    </tr>\n",
       "    <tr>\n",
       "      <th>2</th>\n",
       "      <td>1444</td>\n",
       "      <td>SP</td>\n",
       "      <td>2021.0</td>\n",
       "      <td>Baixada</td>\n",
       "      <td>EXTINCAO POR ENCERRAMENTO LIQUIDACAO VOLUNTARIA</td>\n",
       "      <td>8</td>\n",
       "      <td>554300</td>\n",
       "      <td>179</td>\n",
       "      <td>716987</td>\n",
       "    </tr>\n",
       "    <tr>\n",
       "      <th>3</th>\n",
       "      <td>1596</td>\n",
       "      <td>SP</td>\n",
       "      <td>2005.0</td>\n",
       "      <td>Ativa</td>\n",
       "      <td>NÃO INFORMADO</td>\n",
       "      <td>39</td>\n",
       "      <td>4560342</td>\n",
       "      <td>221</td>\n",
       "      <td>6138632</td>\n",
       "    </tr>\n",
       "    <tr>\n",
       "      <th>4</th>\n",
       "      <td>1904</td>\n",
       "      <td>SP</td>\n",
       "      <td>2002.0</td>\n",
       "      <td>Ativa</td>\n",
       "      <td>NÃO INFORMADO</td>\n",
       "      <td>1</td>\n",
       "      <td>118759</td>\n",
       "      <td>24</td>\n",
       "      <td>158602</td>\n",
       "    </tr>\n",
       "  </tbody>\n",
       "</table>\n",
       "</div>"
      ],
      "text/plain": [
       "   ID_EMP UF_EMP  ANO SIT CAD EMP ADQUIR SIT CAD EMP ADQUIR  \\\n",
       "0     807     SP                  2004.0              Ativa   \n",
       "1    1392     SP                  2005.0              Ativa   \n",
       "2    1444     SP                  2021.0            Baixada   \n",
       "3    1596     SP                  2005.0              Ativa   \n",
       "4    1904     SP                  2002.0              Ativa   \n",
       "\n",
       "                         MOTIVO SIT CAD EMP ADQUIR  IMP_VOL  IMP_VAL  \\\n",
       "0                                    NÃO INFORMADO       64  9211744   \n",
       "1                                    NÃO INFORMADO        1    31117   \n",
       "2  EXTINCAO POR ENCERRAMENTO LIQUIDACAO VOLUNTARIA        8   554300   \n",
       "3                                    NÃO INFORMADO       39  4560342   \n",
       "4                                    NÃO INFORMADO        1   118759   \n",
       "\n",
       "   IMP_PESO  IMP_CUSTO  \n",
       "0       169   11017585  \n",
       "1         1      46250  \n",
       "2       179     716987  \n",
       "3       221    6138632  \n",
       "4        24     158602  "
      ]
     },
     "execution_count": 7,
     "metadata": {},
     "output_type": "execute_result"
    }
   ],
   "source": [
    "# Linhas iniciais\n",
    "dadosADU.head()"
   ]
  },
  {
   "cell_type": "code",
   "execution_count": 8,
   "metadata": {},
   "outputs": [
    {
     "data": {
      "text/plain": [
       "ID_EMP                         int64\n",
       "UF_EMP                        object\n",
       "ANO SIT CAD EMP ADQUIR       float64\n",
       "SIT CAD EMP ADQUIR            object\n",
       "MOTIVO SIT CAD EMP ADQUIR     object\n",
       "IMP_VOL                        int64\n",
       "IMP_VAL                        int64\n",
       "IMP_PESO                       int64\n",
       "IMP_CUSTO                      int64\n",
       "dtype: object"
      ]
     },
     "execution_count": 8,
     "metadata": {},
     "output_type": "execute_result"
    }
   ],
   "source": [
    "# Tipos de Dados\n",
    "dadosADU.dtypes"
   ]
  },
  {
   "cell_type": "code",
   "execution_count": 9,
   "metadata": {},
   "outputs": [
    {
     "data": {
      "text/plain": [
       "(20953, 9)"
      ]
     },
     "execution_count": 9,
     "metadata": {},
     "output_type": "execute_result"
    }
   ],
   "source": [
    "# Quantidade de (linhas,colunas)\n",
    "dadosADU.shape"
   ]
  },
  {
   "cell_type": "code",
   "execution_count": 10,
   "metadata": {},
   "outputs": [
    {
     "data": {
      "text/plain": [
       "ID_EMP                         0\n",
       "UF_EMP                         0\n",
       "ANO SIT CAD EMP ADQUIR       548\n",
       "SIT CAD EMP ADQUIR             0\n",
       "MOTIVO SIT CAD EMP ADQUIR      0\n",
       "IMP_VOL                        0\n",
       "IMP_VAL                        0\n",
       "IMP_PESO                       0\n",
       "IMP_CUSTO                      0\n",
       "dtype: int64"
      ]
     },
     "execution_count": 10,
     "metadata": {},
     "output_type": "execute_result"
    }
   ],
   "source": [
    "# Dados faltantes\n",
    "dadosADU.isnull().sum()"
   ]
  },
  {
   "cell_type": "code",
   "execution_count": 11,
   "metadata": {},
   "outputs": [
    {
     "data": {
      "text/html": [
       "<div>\n",
       "<style scoped>\n",
       "    .dataframe tbody tr th:only-of-type {\n",
       "        vertical-align: middle;\n",
       "    }\n",
       "\n",
       "    .dataframe tbody tr th {\n",
       "        vertical-align: top;\n",
       "    }\n",
       "\n",
       "    .dataframe thead th {\n",
       "        text-align: right;\n",
       "    }\n",
       "</style>\n",
       "<table border=\"1\" class=\"dataframe\">\n",
       "  <thead>\n",
       "    <tr style=\"text-align: right;\">\n",
       "      <th></th>\n",
       "      <th>ID_EMP2</th>\n",
       "      <th>DT_ABERT_EMP</th>\n",
       "      <th>EMP_PORTE</th>\n",
       "      <th>Empresa - 6 Dia Sit. Cad. Atual (ID)</th>\n",
       "      <th>Empresa - Sit. Cad. Atual (Nome)</th>\n",
       "      <th>Empresa - Sit. Cad. Motivo Atual (Nome)</th>\n",
       "      <th>EMP_CS_MAX</th>\n",
       "      <th>EMP_CS_MIN</th>\n",
       "    </tr>\n",
       "  </thead>\n",
       "  <tbody>\n",
       "    <tr>\n",
       "      <th>0</th>\n",
       "      <td>807</td>\n",
       "      <td>16/05/1994</td>\n",
       "      <td>DEMAIS</td>\n",
       "      <td>28/08/2004</td>\n",
       "      <td>ATIVA</td>\n",
       "      <td>SEM MOTIVO</td>\n",
       "      <td>50000</td>\n",
       "      <td>50000</td>\n",
       "    </tr>\n",
       "    <tr>\n",
       "      <th>1</th>\n",
       "      <td>1392</td>\n",
       "      <td>06/05/1994</td>\n",
       "      <td>DEMAIS</td>\n",
       "      <td>03/11/2005</td>\n",
       "      <td>ATIVA</td>\n",
       "      <td>SEM MOTIVO</td>\n",
       "      <td>23000000</td>\n",
       "      <td>15000000</td>\n",
       "    </tr>\n",
       "    <tr>\n",
       "      <th>2</th>\n",
       "      <td>1444</td>\n",
       "      <td>09/05/1994</td>\n",
       "      <td>DEMAIS</td>\n",
       "      <td>27/05/2021</td>\n",
       "      <td>BAIXADA</td>\n",
       "      <td>EXTINCAO POR ENCERRAMENTO LIQUIDACAO VOLUNTARIA</td>\n",
       "      <td>0</td>\n",
       "      <td>0</td>\n",
       "    </tr>\n",
       "    <tr>\n",
       "      <th>3</th>\n",
       "      <td>1596</td>\n",
       "      <td>09/05/1994</td>\n",
       "      <td>DEMAIS</td>\n",
       "      <td>25/03/2005</td>\n",
       "      <td>ATIVA</td>\n",
       "      <td>SEM MOTIVO</td>\n",
       "      <td>300000</td>\n",
       "      <td>300000</td>\n",
       "    </tr>\n",
       "    <tr>\n",
       "      <th>4</th>\n",
       "      <td>1904</td>\n",
       "      <td>09/05/1994</td>\n",
       "      <td>DEMAIS</td>\n",
       "      <td>09/11/2002</td>\n",
       "      <td>ATIVA</td>\n",
       "      <td>SEM MOTIVO</td>\n",
       "      <td>600000</td>\n",
       "      <td>600000</td>\n",
       "    </tr>\n",
       "  </tbody>\n",
       "</table>\n",
       "</div>"
      ],
      "text/plain": [
       "   ID_EMP2 DT_ABERT_EMP EMP_PORTE Empresa - 6 Dia Sit. Cad. Atual (ID)  \\\n",
       "0      807   16/05/1994    DEMAIS                           28/08/2004   \n",
       "1     1392   06/05/1994    DEMAIS                           03/11/2005   \n",
       "2     1444   09/05/1994    DEMAIS                           27/05/2021   \n",
       "3     1596   09/05/1994    DEMAIS                           25/03/2005   \n",
       "4     1904   09/05/1994    DEMAIS                           09/11/2002   \n",
       "\n",
       "  Empresa - Sit. Cad. Atual (Nome)  \\\n",
       "0                            ATIVA   \n",
       "1                            ATIVA   \n",
       "2                          BAIXADA   \n",
       "3                            ATIVA   \n",
       "4                            ATIVA   \n",
       "\n",
       "           Empresa - Sit. Cad. Motivo Atual (Nome)  EMP_CS_MAX  EMP_CS_MIN  \n",
       "0                                       SEM MOTIVO       50000       50000  \n",
       "1                                       SEM MOTIVO    23000000    15000000  \n",
       "2  EXTINCAO POR ENCERRAMENTO LIQUIDACAO VOLUNTARIA           0           0  \n",
       "3                                       SEM MOTIVO      300000      300000  \n",
       "4                                       SEM MOTIVO      600000      600000  "
      ]
     },
     "execution_count": 11,
     "metadata": {},
     "output_type": "execute_result"
    }
   ],
   "source": [
    "dadosCNPJ.head()"
   ]
  },
  {
   "cell_type": "code",
   "execution_count": 12,
   "metadata": {},
   "outputs": [
    {
     "data": {
      "text/plain": [
       "ID_EMP2                                     int64\n",
       "DT_ABERT_EMP                               object\n",
       "EMP_PORTE                                  object\n",
       "Empresa - 6 Dia Sit. Cad. Atual (ID)       object\n",
       "Empresa - Sit. Cad. Atual (Nome)           object\n",
       "Empresa - Sit. Cad. Motivo Atual (Nome)    object\n",
       "EMP_CS_MAX                                  int64\n",
       "EMP_CS_MIN                                  int64\n",
       "dtype: object"
      ]
     },
     "execution_count": 12,
     "metadata": {},
     "output_type": "execute_result"
    }
   ],
   "source": [
    "dadosCNPJ.dtypes"
   ]
  },
  {
   "cell_type": "code",
   "execution_count": 13,
   "metadata": {},
   "outputs": [
    {
     "data": {
      "text/plain": [
       "(20954, 8)"
      ]
     },
     "execution_count": 13,
     "metadata": {},
     "output_type": "execute_result"
    }
   ],
   "source": [
    "dadosCNPJ.shape"
   ]
  },
  {
   "cell_type": "code",
   "execution_count": 14,
   "metadata": {},
   "outputs": [
    {
     "data": {
      "text/plain": [
       "ID_EMP2                                      0\n",
       "DT_ABERT_EMP                                 1\n",
       "EMP_PORTE                                    0\n",
       "Empresa - 6 Dia Sit. Cad. Atual (ID)       555\n",
       "Empresa - Sit. Cad. Atual (Nome)             0\n",
       "Empresa - Sit. Cad. Motivo Atual (Nome)      0\n",
       "EMP_CS_MAX                                   0\n",
       "EMP_CS_MIN                                   0\n",
       "dtype: int64"
      ]
     },
     "execution_count": 14,
     "metadata": {},
     "output_type": "execute_result"
    }
   ],
   "source": [
    "dadosCNPJ.isnull().sum()"
   ]
  },
  {
   "cell_type": "code",
   "execution_count": 15,
   "metadata": {},
   "outputs": [
    {
     "data": {
      "text/html": [
       "<div>\n",
       "<style scoped>\n",
       "    .dataframe tbody tr th:only-of-type {\n",
       "        vertical-align: middle;\n",
       "    }\n",
       "\n",
       "    .dataframe tbody tr th {\n",
       "        vertical-align: top;\n",
       "    }\n",
       "\n",
       "    .dataframe thead th {\n",
       "        text-align: right;\n",
       "    }\n",
       "</style>\n",
       "<table border=\"1\" class=\"dataframe\">\n",
       "  <thead>\n",
       "    <tr style=\"text-align: right;\">\n",
       "      <th></th>\n",
       "      <th>ID_EMP3</th>\n",
       "      <th>EMP_EMPREG</th>\n",
       "    </tr>\n",
       "  </thead>\n",
       "  <tbody>\n",
       "    <tr>\n",
       "      <th>0</th>\n",
       "      <td>807</td>\n",
       "      <td>32</td>\n",
       "    </tr>\n",
       "    <tr>\n",
       "      <th>1</th>\n",
       "      <td>1392</td>\n",
       "      <td>256</td>\n",
       "    </tr>\n",
       "    <tr>\n",
       "      <th>2</th>\n",
       "      <td>1444</td>\n",
       "      <td>26</td>\n",
       "    </tr>\n",
       "    <tr>\n",
       "      <th>3</th>\n",
       "      <td>1596</td>\n",
       "      <td>14</td>\n",
       "    </tr>\n",
       "    <tr>\n",
       "      <th>4</th>\n",
       "      <td>1904</td>\n",
       "      <td>102</td>\n",
       "    </tr>\n",
       "  </tbody>\n",
       "</table>\n",
       "</div>"
      ],
      "text/plain": [
       "   ID_EMP3  EMP_EMPREG\n",
       "0      807          32\n",
       "1     1392         256\n",
       "2     1444          26\n",
       "3     1596          14\n",
       "4     1904         102"
      ]
     },
     "execution_count": 15,
     "metadata": {},
     "output_type": "execute_result"
    }
   ],
   "source": [
    "dadosDIRF.head()"
   ]
  },
  {
   "cell_type": "code",
   "execution_count": 16,
   "metadata": {},
   "outputs": [
    {
     "data": {
      "text/plain": [
       "ID_EMP3       int64\n",
       "EMP_EMPREG    int64\n",
       "dtype: object"
      ]
     },
     "execution_count": 16,
     "metadata": {},
     "output_type": "execute_result"
    }
   ],
   "source": [
    "dadosDIRF.dtypes"
   ]
  },
  {
   "cell_type": "code",
   "execution_count": 17,
   "metadata": {},
   "outputs": [
    {
     "data": {
      "text/plain": [
       "(19016, 2)"
      ]
     },
     "execution_count": 17,
     "metadata": {},
     "output_type": "execute_result"
    }
   ],
   "source": [
    "dadosDIRF.shape"
   ]
  },
  {
   "cell_type": "code",
   "execution_count": 18,
   "metadata": {},
   "outputs": [
    {
     "data": {
      "text/plain": [
       "ID_EMP3       0\n",
       "EMP_EMPREG    0\n",
       "dtype: int64"
      ]
     },
     "execution_count": 18,
     "metadata": {},
     "output_type": "execute_result"
    }
   ],
   "source": [
    "dadosDIRF.isnull().sum()"
   ]
  },
  {
   "cell_type": "code",
   "execution_count": 19,
   "metadata": {},
   "outputs": [
    {
     "data": {
      "text/html": [
       "<div>\n",
       "<style scoped>\n",
       "    .dataframe tbody tr th:only-of-type {\n",
       "        vertical-align: middle;\n",
       "    }\n",
       "\n",
       "    .dataframe tbody tr th {\n",
       "        vertical-align: top;\n",
       "    }\n",
       "\n",
       "    .dataframe thead th {\n",
       "        text-align: right;\n",
       "    }\n",
       "</style>\n",
       "<table border=\"1\" class=\"dataframe\">\n",
       "  <thead>\n",
       "    <tr style=\"text-align: right;\">\n",
       "      <th></th>\n",
       "      <th>ID_EMP4</th>\n",
       "      <th>EMP_REC</th>\n",
       "    </tr>\n",
       "  </thead>\n",
       "  <tbody>\n",
       "    <tr>\n",
       "      <th>0</th>\n",
       "      <td>807</td>\n",
       "      <td>26309539</td>\n",
       "    </tr>\n",
       "    <tr>\n",
       "      <th>1</th>\n",
       "      <td>1392</td>\n",
       "      <td>28811802</td>\n",
       "    </tr>\n",
       "    <tr>\n",
       "      <th>2</th>\n",
       "      <td>1444</td>\n",
       "      <td>2526911</td>\n",
       "    </tr>\n",
       "    <tr>\n",
       "      <th>3</th>\n",
       "      <td>1596</td>\n",
       "      <td>37290202</td>\n",
       "    </tr>\n",
       "    <tr>\n",
       "      <th>4</th>\n",
       "      <td>1904</td>\n",
       "      <td>60054654</td>\n",
       "    </tr>\n",
       "  </tbody>\n",
       "</table>\n",
       "</div>"
      ],
      "text/plain": [
       "   ID_EMP4   EMP_REC\n",
       "0      807  26309539\n",
       "1     1392  28811802\n",
       "2     1444   2526911\n",
       "3     1596  37290202\n",
       "4     1904  60054654"
      ]
     },
     "execution_count": 19,
     "metadata": {},
     "output_type": "execute_result"
    }
   ],
   "source": [
    "dadosRB.head()"
   ]
  },
  {
   "cell_type": "code",
   "execution_count": 20,
   "metadata": {},
   "outputs": [
    {
     "data": {
      "text/plain": [
       "ID_EMP4     int64\n",
       "EMP_REC    object\n",
       "dtype: object"
      ]
     },
     "execution_count": 20,
     "metadata": {},
     "output_type": "execute_result"
    }
   ],
   "source": [
    "dadosRB.dtypes"
   ]
  },
  {
   "cell_type": "code",
   "execution_count": 21,
   "metadata": {},
   "outputs": [
    {
     "data": {
      "text/plain": [
       "(20646, 2)"
      ]
     },
     "execution_count": 21,
     "metadata": {},
     "output_type": "execute_result"
    }
   ],
   "source": [
    "dadosRB.shape"
   ]
  },
  {
   "cell_type": "code",
   "execution_count": 22,
   "metadata": {},
   "outputs": [
    {
     "data": {
      "text/plain": [
       "ID_EMP4    0\n",
       "EMP_REC    0\n",
       "dtype: int64"
      ]
     },
     "execution_count": 22,
     "metadata": {},
     "output_type": "execute_result"
    }
   ],
   "source": [
    "dadosRB.isnull().sum()"
   ]
  },
  {
   "cell_type": "markdown",
   "metadata": {},
   "source": [
    "### 3 -  Junção das bases de dados\n",
    "\n",
    "As bases de dados da DIRF e da RB não retornaram dados para todos os CNPJ consultados (evidenciado pela quantidade de linhas inferior à de dadosADU dessas bases), portanto existirão dados em branco na tabela resultante do join. "
   ]
  },
  {
   "cell_type": "code",
   "execution_count": 23,
   "metadata": {},
   "outputs": [],
   "source": [
    "# Renomeando as colunas CNPJ de todos as bases de dados para padronizar\n",
    "dadosADU.rename(columns={'ID_EMP':'ID'}, \n",
    "             inplace=True)\n",
    "dadosCNPJ.rename(columns={'ID_EMP2':'ID'}, \n",
    "             inplace=True)\n",
    "dadosDIRF.rename(columns={'ID_EMP3':'ID'}, \n",
    "             inplace=True)\n",
    "dadosRB.rename(columns={'ID_EMP4':'ID'}, \n",
    "             inplace=True)"
   ]
  },
  {
   "cell_type": "code",
   "execution_count": 24,
   "metadata": {},
   "outputs": [
    {
     "data": {
      "text/plain": [
       "ID                             int64\n",
       "UF_EMP                        object\n",
       "ANO SIT CAD EMP ADQUIR       float64\n",
       "SIT CAD EMP ADQUIR            object\n",
       "MOTIVO SIT CAD EMP ADQUIR     object\n",
       "IMP_VOL                        int64\n",
       "IMP_VAL                        int64\n",
       "IMP_PESO                       int64\n",
       "IMP_CUSTO                      int64\n",
       "dtype: object"
      ]
     },
     "execution_count": 24,
     "metadata": {},
     "output_type": "execute_result"
    }
   ],
   "source": [
    "# Verificando alterações em cada base de dados\n",
    "dadosADU.dtypes"
   ]
  },
  {
   "cell_type": "code",
   "execution_count": 25,
   "metadata": {},
   "outputs": [
    {
     "data": {
      "text/plain": [
       "ID                                          int64\n",
       "DT_ABERT_EMP                               object\n",
       "EMP_PORTE                                  object\n",
       "Empresa - 6 Dia Sit. Cad. Atual (ID)       object\n",
       "Empresa - Sit. Cad. Atual (Nome)           object\n",
       "Empresa - Sit. Cad. Motivo Atual (Nome)    object\n",
       "EMP_CS_MAX                                  int64\n",
       "EMP_CS_MIN                                  int64\n",
       "dtype: object"
      ]
     },
     "execution_count": 25,
     "metadata": {},
     "output_type": "execute_result"
    }
   ],
   "source": [
    "dadosCNPJ.dtypes"
   ]
  },
  {
   "cell_type": "code",
   "execution_count": 26,
   "metadata": {},
   "outputs": [
    {
     "data": {
      "text/plain": [
       "ID            int64\n",
       "EMP_EMPREG    int64\n",
       "dtype: object"
      ]
     },
     "execution_count": 26,
     "metadata": {},
     "output_type": "execute_result"
    }
   ],
   "source": [
    "dadosDIRF.dtypes"
   ]
  },
  {
   "cell_type": "code",
   "execution_count": 27,
   "metadata": {},
   "outputs": [
    {
     "data": {
      "text/plain": [
       "ID          int64\n",
       "EMP_REC    object\n",
       "dtype: object"
      ]
     },
     "execution_count": 27,
     "metadata": {},
     "output_type": "execute_result"
    }
   ],
   "source": [
    "dadosRB.dtypes"
   ]
  },
  {
   "cell_type": "code",
   "execution_count": 28,
   "metadata": {
    "scrolled": true
   },
   "outputs": [
    {
     "data": {
      "text/plain": [
       "23809368    2\n",
       "807         1\n",
       "27928707    1\n",
       "27953984    1\n",
       "27945967    1\n",
       "           ..\n",
       "9334281     1\n",
       "9334062     1\n",
       "9330699     1\n",
       "9328663     1\n",
       "97837181    1\n",
       "Name: ID, Length: 20953, dtype: int64"
      ]
     },
     "execution_count": 28,
     "metadata": {},
     "output_type": "execute_result"
    }
   ],
   "source": [
    "# O dataframe dadosCNPJ apresenta 1 linha a mais que o dadosADU. \n",
    "# Usando a função value_counts() confirmamos a suspeita de dados em duplicidade para um mesmo CNPJ\n",
    "dadosCNPJ.ID.value_counts()"
   ]
  },
  {
   "cell_type": "code",
   "execution_count": 29,
   "metadata": {},
   "outputs": [
    {
     "data": {
      "text/plain": [
       "(array([12896, 12897], dtype=int64),)"
      ]
     },
     "execution_count": 29,
     "metadata": {},
     "output_type": "execute_result"
    }
   ],
   "source": [
    "# Localizando o índice das linhas de dadosCNPJ que contém o mesmo valor para avaliar a melhor opção para eliminar\n",
    "np.where(dadosCNPJ[\"ID\"] == 23809368)"
   ]
  },
  {
   "cell_type": "code",
   "execution_count": 30,
   "metadata": {},
   "outputs": [
    {
     "data": {
      "text/plain": [
       "(array([12896], dtype=int64),)"
      ]
     },
     "execution_count": 30,
     "metadata": {},
     "output_type": "execute_result"
    }
   ],
   "source": [
    "# São dados duplicados - dois registros em 2015 e 2017 da mesma empresa, eliminaremos o segundo na posição 12897\n",
    "dadosCNPJ.drop(index=[12897],inplace=True)\n",
    "\n",
    "# Verificando se a repetição foi eliminada\n",
    "np.where(dadosCNPJ[\"ID\"] == 23809368)"
   ]
  },
  {
   "cell_type": "code",
   "execution_count": 31,
   "metadata": {},
   "outputs": [],
   "source": [
    "# Juntando usando CNPJ como chave e left a partir de ADU>CNPJ>DIRF>RB (do maior volume de cnpj para o menor)\n",
    "df_merged = pd.merge (dadosADU, dadosCNPJ, how = 'left', on = 'ID')\n",
    "df_merged = pd.merge (df_merged, dadosDIRF, how = 'left', on = 'ID')\n",
    "df_merged = pd.merge (df_merged, dadosRB, how = 'left', on = 'ID')"
   ]
  },
  {
   "cell_type": "code",
   "execution_count": 32,
   "metadata": {},
   "outputs": [
    {
     "name": "stdout",
     "output_type": "stream",
     "text": [
      "<class 'pandas.core.frame.DataFrame'>\n",
      "Int64Index: 20953 entries, 0 to 20952\n",
      "Data columns (total 18 columns):\n",
      " #   Column                                   Non-Null Count  Dtype  \n",
      "---  ------                                   --------------  -----  \n",
      " 0   ID                                       20953 non-null  int64  \n",
      " 1   UF_EMP                                   20953 non-null  object \n",
      " 2   ANO SIT CAD EMP ADQUIR                   20405 non-null  float64\n",
      " 3   SIT CAD EMP ADQUIR                       20953 non-null  object \n",
      " 4   MOTIVO SIT CAD EMP ADQUIR                20953 non-null  object \n",
      " 5   IMP_VOL                                  20953 non-null  int64  \n",
      " 6   IMP_VAL                                  20953 non-null  int64  \n",
      " 7   IMP_PESO                                 20953 non-null  int64  \n",
      " 8   IMP_CUSTO                                20953 non-null  int64  \n",
      " 9   DT_ABERT_EMP                             20952 non-null  object \n",
      " 10  EMP_PORTE                                20953 non-null  object \n",
      " 11  Empresa - 6 Dia Sit. Cad. Atual (ID)     20398 non-null  object \n",
      " 12  Empresa - Sit. Cad. Atual (Nome)         20953 non-null  object \n",
      " 13  Empresa - Sit. Cad. Motivo Atual (Nome)  20953 non-null  object \n",
      " 14  EMP_CS_MAX                               20953 non-null  int64  \n",
      " 15  EMP_CS_MIN                               20953 non-null  int64  \n",
      " 16  EMP_EMPREG                               19016 non-null  float64\n",
      " 17  EMP_REC                                  20646 non-null  object \n",
      "dtypes: float64(2), int64(7), object(9)\n",
      "memory usage: 3.0+ MB\n"
     ]
    }
   ],
   "source": [
    "# Obtendo todas as informações de df_merged\n",
    "df_merged.info()"
   ]
  },
  {
   "cell_type": "code",
   "execution_count": 33,
   "metadata": {},
   "outputs": [
    {
     "data": {
      "text/html": [
       "<div>\n",
       "<style scoped>\n",
       "    .dataframe tbody tr th:only-of-type {\n",
       "        vertical-align: middle;\n",
       "    }\n",
       "\n",
       "    .dataframe tbody tr th {\n",
       "        vertical-align: top;\n",
       "    }\n",
       "\n",
       "    .dataframe thead th {\n",
       "        text-align: right;\n",
       "    }\n",
       "</style>\n",
       "<table border=\"1\" class=\"dataframe\">\n",
       "  <thead>\n",
       "    <tr style=\"text-align: right;\">\n",
       "      <th></th>\n",
       "      <th>ID</th>\n",
       "      <th>UF_EMP</th>\n",
       "      <th>ANO SIT CAD EMP ADQUIR</th>\n",
       "      <th>SIT CAD EMP ADQUIR</th>\n",
       "      <th>MOTIVO SIT CAD EMP ADQUIR</th>\n",
       "      <th>IMP_VOL</th>\n",
       "      <th>IMP_VAL</th>\n",
       "      <th>IMP_PESO</th>\n",
       "      <th>IMP_CUSTO</th>\n",
       "      <th>DT_ABERT_EMP</th>\n",
       "      <th>EMP_PORTE</th>\n",
       "      <th>Empresa - 6 Dia Sit. Cad. Atual (ID)</th>\n",
       "      <th>Empresa - Sit. Cad. Atual (Nome)</th>\n",
       "      <th>Empresa - Sit. Cad. Motivo Atual (Nome)</th>\n",
       "      <th>EMP_CS_MAX</th>\n",
       "      <th>EMP_CS_MIN</th>\n",
       "      <th>EMP_EMPREG</th>\n",
       "      <th>EMP_REC</th>\n",
       "    </tr>\n",
       "  </thead>\n",
       "  <tbody>\n",
       "    <tr>\n",
       "      <th>0</th>\n",
       "      <td>807</td>\n",
       "      <td>SP</td>\n",
       "      <td>2004.0</td>\n",
       "      <td>Ativa</td>\n",
       "      <td>NÃO INFORMADO</td>\n",
       "      <td>64</td>\n",
       "      <td>9211744</td>\n",
       "      <td>169</td>\n",
       "      <td>11017585</td>\n",
       "      <td>16/05/1994</td>\n",
       "      <td>DEMAIS</td>\n",
       "      <td>28/08/2004</td>\n",
       "      <td>ATIVA</td>\n",
       "      <td>SEM MOTIVO</td>\n",
       "      <td>50000</td>\n",
       "      <td>50000</td>\n",
       "      <td>32.0</td>\n",
       "      <td>26309539</td>\n",
       "    </tr>\n",
       "    <tr>\n",
       "      <th>1</th>\n",
       "      <td>1392</td>\n",
       "      <td>SP</td>\n",
       "      <td>2005.0</td>\n",
       "      <td>Ativa</td>\n",
       "      <td>NÃO INFORMADO</td>\n",
       "      <td>1</td>\n",
       "      <td>31117</td>\n",
       "      <td>1</td>\n",
       "      <td>46250</td>\n",
       "      <td>06/05/1994</td>\n",
       "      <td>DEMAIS</td>\n",
       "      <td>03/11/2005</td>\n",
       "      <td>ATIVA</td>\n",
       "      <td>SEM MOTIVO</td>\n",
       "      <td>23000000</td>\n",
       "      <td>15000000</td>\n",
       "      <td>256.0</td>\n",
       "      <td>28811802</td>\n",
       "    </tr>\n",
       "    <tr>\n",
       "      <th>2</th>\n",
       "      <td>1444</td>\n",
       "      <td>SP</td>\n",
       "      <td>2021.0</td>\n",
       "      <td>Baixada</td>\n",
       "      <td>EXTINCAO POR ENCERRAMENTO LIQUIDACAO VOLUNTARIA</td>\n",
       "      <td>8</td>\n",
       "      <td>554300</td>\n",
       "      <td>179</td>\n",
       "      <td>716987</td>\n",
       "      <td>09/05/1994</td>\n",
       "      <td>DEMAIS</td>\n",
       "      <td>27/05/2021</td>\n",
       "      <td>BAIXADA</td>\n",
       "      <td>EXTINCAO POR ENCERRAMENTO LIQUIDACAO VOLUNTARIA</td>\n",
       "      <td>0</td>\n",
       "      <td>0</td>\n",
       "      <td>26.0</td>\n",
       "      <td>2526911</td>\n",
       "    </tr>\n",
       "    <tr>\n",
       "      <th>3</th>\n",
       "      <td>1596</td>\n",
       "      <td>SP</td>\n",
       "      <td>2005.0</td>\n",
       "      <td>Ativa</td>\n",
       "      <td>NÃO INFORMADO</td>\n",
       "      <td>39</td>\n",
       "      <td>4560342</td>\n",
       "      <td>221</td>\n",
       "      <td>6138632</td>\n",
       "      <td>09/05/1994</td>\n",
       "      <td>DEMAIS</td>\n",
       "      <td>25/03/2005</td>\n",
       "      <td>ATIVA</td>\n",
       "      <td>SEM MOTIVO</td>\n",
       "      <td>300000</td>\n",
       "      <td>300000</td>\n",
       "      <td>14.0</td>\n",
       "      <td>37290202</td>\n",
       "    </tr>\n",
       "    <tr>\n",
       "      <th>4</th>\n",
       "      <td>1904</td>\n",
       "      <td>SP</td>\n",
       "      <td>2002.0</td>\n",
       "      <td>Ativa</td>\n",
       "      <td>NÃO INFORMADO</td>\n",
       "      <td>1</td>\n",
       "      <td>118759</td>\n",
       "      <td>24</td>\n",
       "      <td>158602</td>\n",
       "      <td>09/05/1994</td>\n",
       "      <td>DEMAIS</td>\n",
       "      <td>09/11/2002</td>\n",
       "      <td>ATIVA</td>\n",
       "      <td>SEM MOTIVO</td>\n",
       "      <td>600000</td>\n",
       "      <td>600000</td>\n",
       "      <td>102.0</td>\n",
       "      <td>60054654</td>\n",
       "    </tr>\n",
       "  </tbody>\n",
       "</table>\n",
       "</div>"
      ],
      "text/plain": [
       "     ID UF_EMP  ANO SIT CAD EMP ADQUIR SIT CAD EMP ADQUIR  \\\n",
       "0   807     SP                  2004.0              Ativa   \n",
       "1  1392     SP                  2005.0              Ativa   \n",
       "2  1444     SP                  2021.0            Baixada   \n",
       "3  1596     SP                  2005.0              Ativa   \n",
       "4  1904     SP                  2002.0              Ativa   \n",
       "\n",
       "                         MOTIVO SIT CAD EMP ADQUIR  IMP_VOL  IMP_VAL  \\\n",
       "0                                    NÃO INFORMADO       64  9211744   \n",
       "1                                    NÃO INFORMADO        1    31117   \n",
       "2  EXTINCAO POR ENCERRAMENTO LIQUIDACAO VOLUNTARIA        8   554300   \n",
       "3                                    NÃO INFORMADO       39  4560342   \n",
       "4                                    NÃO INFORMADO        1   118759   \n",
       "\n",
       "   IMP_PESO  IMP_CUSTO DT_ABERT_EMP EMP_PORTE  \\\n",
       "0       169   11017585   16/05/1994    DEMAIS   \n",
       "1         1      46250   06/05/1994    DEMAIS   \n",
       "2       179     716987   09/05/1994    DEMAIS   \n",
       "3       221    6138632   09/05/1994    DEMAIS   \n",
       "4        24     158602   09/05/1994    DEMAIS   \n",
       "\n",
       "  Empresa - 6 Dia Sit. Cad. Atual (ID) Empresa - Sit. Cad. Atual (Nome)  \\\n",
       "0                           28/08/2004                            ATIVA   \n",
       "1                           03/11/2005                            ATIVA   \n",
       "2                           27/05/2021                          BAIXADA   \n",
       "3                           25/03/2005                            ATIVA   \n",
       "4                           09/11/2002                            ATIVA   \n",
       "\n",
       "           Empresa - Sit. Cad. Motivo Atual (Nome)  EMP_CS_MAX  EMP_CS_MIN  \\\n",
       "0                                       SEM MOTIVO       50000       50000   \n",
       "1                                       SEM MOTIVO    23000000    15000000   \n",
       "2  EXTINCAO POR ENCERRAMENTO LIQUIDACAO VOLUNTARIA           0           0   \n",
       "3                                       SEM MOTIVO      300000      300000   \n",
       "4                                       SEM MOTIVO      600000      600000   \n",
       "\n",
       "   EMP_EMPREG   EMP_REC  \n",
       "0        32.0  26309539  \n",
       "1       256.0  28811802  \n",
       "2        26.0   2526911  \n",
       "3        14.0  37290202  \n",
       "4       102.0  60054654  "
      ]
     },
     "execution_count": 33,
     "metadata": {},
     "output_type": "execute_result"
    }
   ],
   "source": [
    "df_merged.head()"
   ]
  },
  {
   "cell_type": "markdown",
   "metadata": {},
   "source": [
    "### 4 - Formatação da base de dados df_merged\n",
    "A base de dados resultante da junção das fontes de dados originais apresenta algumas colunas com dados desnecessários para o estudo, que eliminaremos a seguir."
   ]
  },
  {
   "cell_type": "markdown",
   "metadata": {},
   "source": [
    "As colunas 'SIT CAD EMP ADQUIR', 'MOTIVO SIT CAD EMP ADQUIR''Empresa - Sit. Cad. Atual (Nome)' e 'Empresa - Sit. Cad. Motivo Atual (Nome)' possuem dados semelhantes, porém extraídos em momentos diferentes, podendo apresentar divergências. Para verificar quais dados seriam mais interessantes para o estudo, optamos por analisá-los após a junção das bases."
   ]
  },
  {
   "cell_type": "markdown",
   "metadata": {},
   "source": [
    "Por fim, antes de passar à etapa de tratamento dos dados propriamente dita, reorganizaremos a ordem das colunas e as renomearemos."
   ]
  },
  {
   "cell_type": "code",
   "execution_count": 34,
   "metadata": {},
   "outputs": [
    {
     "data": {
      "text/html": [
       "<div>\n",
       "<style scoped>\n",
       "    .dataframe tbody tr th:only-of-type {\n",
       "        vertical-align: middle;\n",
       "    }\n",
       "\n",
       "    .dataframe tbody tr th {\n",
       "        vertical-align: top;\n",
       "    }\n",
       "\n",
       "    .dataframe thead th {\n",
       "        text-align: right;\n",
       "    }\n",
       "</style>\n",
       "<table border=\"1\" class=\"dataframe\">\n",
       "  <thead>\n",
       "    <tr style=\"text-align: right;\">\n",
       "      <th></th>\n",
       "      <th>UF_EMP</th>\n",
       "      <th>SIT CAD EMP ADQUIR</th>\n",
       "      <th>MOTIVO SIT CAD EMP ADQUIR</th>\n",
       "      <th>IMP_VOL</th>\n",
       "      <th>IMP_VAL</th>\n",
       "      <th>IMP_PESO</th>\n",
       "      <th>IMP_CUSTO</th>\n",
       "      <th>DT_ABERT_EMP</th>\n",
       "      <th>EMP_PORTE</th>\n",
       "      <th>Empresa - 6 Dia Sit. Cad. Atual (ID)</th>\n",
       "      <th>Empresa - Sit. Cad. Atual (Nome)</th>\n",
       "      <th>Empresa - Sit. Cad. Motivo Atual (Nome)</th>\n",
       "      <th>EMP_CS_MAX</th>\n",
       "      <th>EMP_EMPREG</th>\n",
       "      <th>EMP_REC</th>\n",
       "    </tr>\n",
       "  </thead>\n",
       "  <tbody>\n",
       "    <tr>\n",
       "      <th>0</th>\n",
       "      <td>SP</td>\n",
       "      <td>Ativa</td>\n",
       "      <td>NÃO INFORMADO</td>\n",
       "      <td>64</td>\n",
       "      <td>9211744</td>\n",
       "      <td>169</td>\n",
       "      <td>11017585</td>\n",
       "      <td>16/05/1994</td>\n",
       "      <td>DEMAIS</td>\n",
       "      <td>28/08/2004</td>\n",
       "      <td>ATIVA</td>\n",
       "      <td>SEM MOTIVO</td>\n",
       "      <td>50000</td>\n",
       "      <td>32.0</td>\n",
       "      <td>26309539</td>\n",
       "    </tr>\n",
       "    <tr>\n",
       "      <th>1</th>\n",
       "      <td>SP</td>\n",
       "      <td>Ativa</td>\n",
       "      <td>NÃO INFORMADO</td>\n",
       "      <td>1</td>\n",
       "      <td>31117</td>\n",
       "      <td>1</td>\n",
       "      <td>46250</td>\n",
       "      <td>06/05/1994</td>\n",
       "      <td>DEMAIS</td>\n",
       "      <td>03/11/2005</td>\n",
       "      <td>ATIVA</td>\n",
       "      <td>SEM MOTIVO</td>\n",
       "      <td>23000000</td>\n",
       "      <td>256.0</td>\n",
       "      <td>28811802</td>\n",
       "    </tr>\n",
       "    <tr>\n",
       "      <th>2</th>\n",
       "      <td>SP</td>\n",
       "      <td>Baixada</td>\n",
       "      <td>EXTINCAO POR ENCERRAMENTO LIQUIDACAO VOLUNTARIA</td>\n",
       "      <td>8</td>\n",
       "      <td>554300</td>\n",
       "      <td>179</td>\n",
       "      <td>716987</td>\n",
       "      <td>09/05/1994</td>\n",
       "      <td>DEMAIS</td>\n",
       "      <td>27/05/2021</td>\n",
       "      <td>BAIXADA</td>\n",
       "      <td>EXTINCAO POR ENCERRAMENTO LIQUIDACAO VOLUNTARIA</td>\n",
       "      <td>0</td>\n",
       "      <td>26.0</td>\n",
       "      <td>2526911</td>\n",
       "    </tr>\n",
       "    <tr>\n",
       "      <th>3</th>\n",
       "      <td>SP</td>\n",
       "      <td>Ativa</td>\n",
       "      <td>NÃO INFORMADO</td>\n",
       "      <td>39</td>\n",
       "      <td>4560342</td>\n",
       "      <td>221</td>\n",
       "      <td>6138632</td>\n",
       "      <td>09/05/1994</td>\n",
       "      <td>DEMAIS</td>\n",
       "      <td>25/03/2005</td>\n",
       "      <td>ATIVA</td>\n",
       "      <td>SEM MOTIVO</td>\n",
       "      <td>300000</td>\n",
       "      <td>14.0</td>\n",
       "      <td>37290202</td>\n",
       "    </tr>\n",
       "    <tr>\n",
       "      <th>4</th>\n",
       "      <td>SP</td>\n",
       "      <td>Ativa</td>\n",
       "      <td>NÃO INFORMADO</td>\n",
       "      <td>1</td>\n",
       "      <td>118759</td>\n",
       "      <td>24</td>\n",
       "      <td>158602</td>\n",
       "      <td>09/05/1994</td>\n",
       "      <td>DEMAIS</td>\n",
       "      <td>09/11/2002</td>\n",
       "      <td>ATIVA</td>\n",
       "      <td>SEM MOTIVO</td>\n",
       "      <td>600000</td>\n",
       "      <td>102.0</td>\n",
       "      <td>60054654</td>\n",
       "    </tr>\n",
       "  </tbody>\n",
       "</table>\n",
       "</div>"
      ],
      "text/plain": [
       "  UF_EMP SIT CAD EMP ADQUIR                        MOTIVO SIT CAD EMP ADQUIR  \\\n",
       "0     SP              Ativa                                    NÃO INFORMADO   \n",
       "1     SP              Ativa                                    NÃO INFORMADO   \n",
       "2     SP            Baixada  EXTINCAO POR ENCERRAMENTO LIQUIDACAO VOLUNTARIA   \n",
       "3     SP              Ativa                                    NÃO INFORMADO   \n",
       "4     SP              Ativa                                    NÃO INFORMADO   \n",
       "\n",
       "   IMP_VOL  IMP_VAL  IMP_PESO  IMP_CUSTO DT_ABERT_EMP EMP_PORTE  \\\n",
       "0       64  9211744       169   11017585   16/05/1994    DEMAIS   \n",
       "1        1    31117         1      46250   06/05/1994    DEMAIS   \n",
       "2        8   554300       179     716987   09/05/1994    DEMAIS   \n",
       "3       39  4560342       221    6138632   09/05/1994    DEMAIS   \n",
       "4        1   118759        24     158602   09/05/1994    DEMAIS   \n",
       "\n",
       "  Empresa - 6 Dia Sit. Cad. Atual (ID) Empresa - Sit. Cad. Atual (Nome)  \\\n",
       "0                           28/08/2004                            ATIVA   \n",
       "1                           03/11/2005                            ATIVA   \n",
       "2                           27/05/2021                          BAIXADA   \n",
       "3                           25/03/2005                            ATIVA   \n",
       "4                           09/11/2002                            ATIVA   \n",
       "\n",
       "           Empresa - Sit. Cad. Motivo Atual (Nome)  EMP_CS_MAX  EMP_EMPREG  \\\n",
       "0                                       SEM MOTIVO       50000        32.0   \n",
       "1                                       SEM MOTIVO    23000000       256.0   \n",
       "2  EXTINCAO POR ENCERRAMENTO LIQUIDACAO VOLUNTARIA           0        26.0   \n",
       "3                                       SEM MOTIVO      300000        14.0   \n",
       "4                                       SEM MOTIVO      600000       102.0   \n",
       "\n",
       "    EMP_REC  \n",
       "0  26309539  \n",
       "1  28811802  \n",
       "2   2526911  \n",
       "3  37290202  \n",
       "4  60054654  "
      ]
     },
     "execution_count": 34,
     "metadata": {},
     "output_type": "execute_result"
    }
   ],
   "source": [
    "# Eliminando as colunas desnecessárias\n",
    "df_merged.drop(columns=[\"ANO SIT CAD EMP ADQUIR\", \"ID\", \"EMP_CS_MIN\"],inplace=True)\n",
    "df_merged.head()"
   ]
  },
  {
   "cell_type": "code",
   "execution_count": 35,
   "metadata": {},
   "outputs": [
    {
     "data": {
      "text/plain": [
       "SIT CAD EMP ADQUIR  MOTIVO SIT CAD EMP ADQUIR                         \n",
       "Ativa               NÃO INFORMADO                                         20062\n",
       "Baixada             ENCERRAMENTO DA LIQUIDACAO                                1\n",
       "                    EXTINCAO POR ENCERRAMENTO LIQUIDACAO VOLUNTARIA         442\n",
       "                    INCORPORACAO                                            205\n",
       "                    INEXISTENTE DE FATO                                      14\n",
       "Inapta              INEXISTENTE DE FATO                                       1\n",
       "                    LOCALIZACAO DESCONHECIDA                                  6\n",
       "                    OMISSAO DE DECLARACOES                                  162\n",
       "                    PRATICA IRREGULAR DE OPERACAO DE COMERCIO EXTERIOR       37\n",
       "Suspensa            INCONSISTÊNCIA CADASTRAL                                  3\n",
       "                    INEXISTENTE DE FATO                                       1\n",
       "                    INTERRUPCAO TEMPORARIA DAS ATIVIDADES                     8\n",
       "                    PRATICA IRREGULAR DE OPERACAO DE COMERCIO EXTERIOR       11\n",
       "dtype: int64"
      ]
     },
     "execution_count": 35,
     "metadata": {},
     "output_type": "execute_result"
    }
   ],
   "source": [
    "# Verificando se há divergência entre os dados de 'SIT CAD EMP ADQUIR' e 'Empresa - Sit. Cad. Atual (Nome)'\n",
    "freq = df_merged.groupby(['SIT CAD EMP ADQUIR', 'MOTIVO SIT CAD EMP ADQUIR']).size()\n",
    "freq2 = df_merged.groupby(['Empresa - Sit. Cad. Atual (Nome)', 'Empresa - Sit. Cad. Motivo Atual (Nome)']).size()\n",
    "freq"
   ]
  },
  {
   "cell_type": "code",
   "execution_count": 36,
   "metadata": {},
   "outputs": [
    {
     "data": {
      "text/plain": [
       "Empresa - Sit. Cad. Atual (Nome)  Empresa - Sit. Cad. Motivo Atual (Nome)           \n",
       "ATIVA                             SEM MOTIVO                                            20178\n",
       "BAIXADA                           EXTINCAO POR ENCERRAMENTO LIQUIDACAO VOLUNTARIA         418\n",
       "                                  INCORPORACAO                                            196\n",
       "                                  INEXISTENTE DE FATO                                      14\n",
       "INAPTA                            LOCALIZACAO DESCONHECIDA                                  7\n",
       "                                  OMISSAO DE DECLARACOES                                   80\n",
       "                                  PRATICA IRREGULAR DE OPERACAO DE COMERCIO EXTERIOR       35\n",
       "SUSPENSA                          INCONSISTENCIA CADASTRAL                                  4\n",
       "                                  INEXISTENTE DE FATO                                       2\n",
       "                                  INTERRUPCAO TEMPORARIA DAS ATIVIDADES                     7\n",
       "                                  PEDIDO DE BAIXA INDEFERIDA                                1\n",
       "                                  PRATICA IRREGULAR DE OPERACAO DE COMERCIO EXTERIOR       11\n",
       "dtype: int64"
      ]
     },
     "execution_count": 36,
     "metadata": {},
     "output_type": "execute_result"
    }
   ],
   "source": [
    "freq2"
   ]
  },
  {
   "cell_type": "code",
   "execution_count": 37,
   "metadata": {},
   "outputs": [
    {
     "data": {
      "text/html": [
       "<div>\n",
       "<style scoped>\n",
       "    .dataframe tbody tr th:only-of-type {\n",
       "        vertical-align: middle;\n",
       "    }\n",
       "\n",
       "    .dataframe tbody tr th {\n",
       "        vertical-align: top;\n",
       "    }\n",
       "\n",
       "    .dataframe thead th {\n",
       "        text-align: right;\n",
       "    }\n",
       "</style>\n",
       "<table border=\"1\" class=\"dataframe\">\n",
       "  <thead>\n",
       "    <tr style=\"text-align: right;\">\n",
       "      <th></th>\n",
       "      <th>UF_EMP</th>\n",
       "      <th>IMP_VOL</th>\n",
       "      <th>IMP_VAL</th>\n",
       "      <th>IMP_PESO</th>\n",
       "      <th>IMP_CUSTO</th>\n",
       "      <th>DT_ABERT_EMP</th>\n",
       "      <th>EMP_PORTE</th>\n",
       "      <th>Empresa - 6 Dia Sit. Cad. Atual (ID)</th>\n",
       "      <th>Empresa - Sit. Cad. Atual (Nome)</th>\n",
       "      <th>Empresa - Sit. Cad. Motivo Atual (Nome)</th>\n",
       "      <th>EMP_CS_MAX</th>\n",
       "      <th>EMP_EMPREG</th>\n",
       "      <th>EMP_REC</th>\n",
       "    </tr>\n",
       "  </thead>\n",
       "  <tbody>\n",
       "    <tr>\n",
       "      <th>0</th>\n",
       "      <td>SP</td>\n",
       "      <td>64</td>\n",
       "      <td>9211744</td>\n",
       "      <td>169</td>\n",
       "      <td>11017585</td>\n",
       "      <td>16/05/1994</td>\n",
       "      <td>DEMAIS</td>\n",
       "      <td>28/08/2004</td>\n",
       "      <td>ATIVA</td>\n",
       "      <td>SEM MOTIVO</td>\n",
       "      <td>50000</td>\n",
       "      <td>32.0</td>\n",
       "      <td>26309539</td>\n",
       "    </tr>\n",
       "    <tr>\n",
       "      <th>1</th>\n",
       "      <td>SP</td>\n",
       "      <td>1</td>\n",
       "      <td>31117</td>\n",
       "      <td>1</td>\n",
       "      <td>46250</td>\n",
       "      <td>06/05/1994</td>\n",
       "      <td>DEMAIS</td>\n",
       "      <td>03/11/2005</td>\n",
       "      <td>ATIVA</td>\n",
       "      <td>SEM MOTIVO</td>\n",
       "      <td>23000000</td>\n",
       "      <td>256.0</td>\n",
       "      <td>28811802</td>\n",
       "    </tr>\n",
       "    <tr>\n",
       "      <th>2</th>\n",
       "      <td>SP</td>\n",
       "      <td>8</td>\n",
       "      <td>554300</td>\n",
       "      <td>179</td>\n",
       "      <td>716987</td>\n",
       "      <td>09/05/1994</td>\n",
       "      <td>DEMAIS</td>\n",
       "      <td>27/05/2021</td>\n",
       "      <td>BAIXADA</td>\n",
       "      <td>EXTINCAO POR ENCERRAMENTO LIQUIDACAO VOLUNTARIA</td>\n",
       "      <td>0</td>\n",
       "      <td>26.0</td>\n",
       "      <td>2526911</td>\n",
       "    </tr>\n",
       "    <tr>\n",
       "      <th>3</th>\n",
       "      <td>SP</td>\n",
       "      <td>39</td>\n",
       "      <td>4560342</td>\n",
       "      <td>221</td>\n",
       "      <td>6138632</td>\n",
       "      <td>09/05/1994</td>\n",
       "      <td>DEMAIS</td>\n",
       "      <td>25/03/2005</td>\n",
       "      <td>ATIVA</td>\n",
       "      <td>SEM MOTIVO</td>\n",
       "      <td>300000</td>\n",
       "      <td>14.0</td>\n",
       "      <td>37290202</td>\n",
       "    </tr>\n",
       "    <tr>\n",
       "      <th>4</th>\n",
       "      <td>SP</td>\n",
       "      <td>1</td>\n",
       "      <td>118759</td>\n",
       "      <td>24</td>\n",
       "      <td>158602</td>\n",
       "      <td>09/05/1994</td>\n",
       "      <td>DEMAIS</td>\n",
       "      <td>09/11/2002</td>\n",
       "      <td>ATIVA</td>\n",
       "      <td>SEM MOTIVO</td>\n",
       "      <td>600000</td>\n",
       "      <td>102.0</td>\n",
       "      <td>60054654</td>\n",
       "    </tr>\n",
       "  </tbody>\n",
       "</table>\n",
       "</div>"
      ],
      "text/plain": [
       "  UF_EMP  IMP_VOL  IMP_VAL  IMP_PESO  IMP_CUSTO DT_ABERT_EMP EMP_PORTE  \\\n",
       "0     SP       64  9211744       169   11017585   16/05/1994    DEMAIS   \n",
       "1     SP        1    31117         1      46250   06/05/1994    DEMAIS   \n",
       "2     SP        8   554300       179     716987   09/05/1994    DEMAIS   \n",
       "3     SP       39  4560342       221    6138632   09/05/1994    DEMAIS   \n",
       "4     SP        1   118759        24     158602   09/05/1994    DEMAIS   \n",
       "\n",
       "  Empresa - 6 Dia Sit. Cad. Atual (ID) Empresa - Sit. Cad. Atual (Nome)  \\\n",
       "0                           28/08/2004                            ATIVA   \n",
       "1                           03/11/2005                            ATIVA   \n",
       "2                           27/05/2021                          BAIXADA   \n",
       "3                           25/03/2005                            ATIVA   \n",
       "4                           09/11/2002                            ATIVA   \n",
       "\n",
       "           Empresa - Sit. Cad. Motivo Atual (Nome)  EMP_CS_MAX  EMP_EMPREG  \\\n",
       "0                                       SEM MOTIVO       50000        32.0   \n",
       "1                                       SEM MOTIVO    23000000       256.0   \n",
       "2  EXTINCAO POR ENCERRAMENTO LIQUIDACAO VOLUNTARIA           0        26.0   \n",
       "3                                       SEM MOTIVO      300000        14.0   \n",
       "4                                       SEM MOTIVO      600000       102.0   \n",
       "\n",
       "    EMP_REC  \n",
       "0  26309539  \n",
       "1  28811802  \n",
       "2   2526911  \n",
       "3  37290202  \n",
       "4  60054654  "
      ]
     },
     "execution_count": 37,
     "metadata": {},
     "output_type": "execute_result"
    }
   ],
   "source": [
    "# Há divergências, porém para fins do estudo, os motivos de interesse sofrem pouca alteração entre as duas bases.\n",
    "# Como 'Empresa - Sit. Cad. Atual (Nome)' representa a situação cadastral ATUAL da empresa obtida \n",
    "# a partir do DATASET Cadastro CNPJ optamos por mantê-la, eliminando as colunas \"SIT CAD EMP ADQUIR\" e\n",
    "# \"MOTIVO SIT CAD EMP ADQUIR\"\n",
    "df_merged.drop(columns=[\"SIT CAD EMP ADQUIR\", \"MOTIVO SIT CAD EMP ADQUIR\"],inplace=True)\n",
    "df_merged.head()"
   ]
  },
  {
   "cell_type": "code",
   "execution_count": 38,
   "metadata": {},
   "outputs": [
    {
     "data": {
      "text/html": [
       "<div>\n",
       "<style scoped>\n",
       "    .dataframe tbody tr th:only-of-type {\n",
       "        vertical-align: middle;\n",
       "    }\n",
       "\n",
       "    .dataframe tbody tr th {\n",
       "        vertical-align: top;\n",
       "    }\n",
       "\n",
       "    .dataframe thead th {\n",
       "        text-align: right;\n",
       "    }\n",
       "</style>\n",
       "<table border=\"1\" class=\"dataframe\">\n",
       "  <thead>\n",
       "    <tr style=\"text-align: right;\">\n",
       "      <th></th>\n",
       "      <th>UF_EMP</th>\n",
       "      <th>EMP_PORTE</th>\n",
       "      <th>EMP_CS_MAX</th>\n",
       "      <th>IMP_VOL</th>\n",
       "      <th>IMP_VAL</th>\n",
       "      <th>IMP_PESO</th>\n",
       "      <th>IMP_CUSTO</th>\n",
       "      <th>EMP_EMPREG</th>\n",
       "      <th>EMP_REC</th>\n",
       "      <th>DT_ABERT_EMP</th>\n",
       "      <th>Empresa - 6 Dia Sit. Cad. Atual (ID)</th>\n",
       "      <th>Empresa - Sit. Cad. Atual (Nome)</th>\n",
       "      <th>Empresa - Sit. Cad. Motivo Atual (Nome)</th>\n",
       "    </tr>\n",
       "  </thead>\n",
       "  <tbody>\n",
       "    <tr>\n",
       "      <th>0</th>\n",
       "      <td>SP</td>\n",
       "      <td>DEMAIS</td>\n",
       "      <td>50000</td>\n",
       "      <td>64</td>\n",
       "      <td>9211744</td>\n",
       "      <td>169</td>\n",
       "      <td>11017585</td>\n",
       "      <td>32.0</td>\n",
       "      <td>26309539</td>\n",
       "      <td>16/05/1994</td>\n",
       "      <td>28/08/2004</td>\n",
       "      <td>ATIVA</td>\n",
       "      <td>SEM MOTIVO</td>\n",
       "    </tr>\n",
       "    <tr>\n",
       "      <th>1</th>\n",
       "      <td>SP</td>\n",
       "      <td>DEMAIS</td>\n",
       "      <td>23000000</td>\n",
       "      <td>1</td>\n",
       "      <td>31117</td>\n",
       "      <td>1</td>\n",
       "      <td>46250</td>\n",
       "      <td>256.0</td>\n",
       "      <td>28811802</td>\n",
       "      <td>06/05/1994</td>\n",
       "      <td>03/11/2005</td>\n",
       "      <td>ATIVA</td>\n",
       "      <td>SEM MOTIVO</td>\n",
       "    </tr>\n",
       "    <tr>\n",
       "      <th>2</th>\n",
       "      <td>SP</td>\n",
       "      <td>DEMAIS</td>\n",
       "      <td>0</td>\n",
       "      <td>8</td>\n",
       "      <td>554300</td>\n",
       "      <td>179</td>\n",
       "      <td>716987</td>\n",
       "      <td>26.0</td>\n",
       "      <td>2526911</td>\n",
       "      <td>09/05/1994</td>\n",
       "      <td>27/05/2021</td>\n",
       "      <td>BAIXADA</td>\n",
       "      <td>EXTINCAO POR ENCERRAMENTO LIQUIDACAO VOLUNTARIA</td>\n",
       "    </tr>\n",
       "    <tr>\n",
       "      <th>3</th>\n",
       "      <td>SP</td>\n",
       "      <td>DEMAIS</td>\n",
       "      <td>300000</td>\n",
       "      <td>39</td>\n",
       "      <td>4560342</td>\n",
       "      <td>221</td>\n",
       "      <td>6138632</td>\n",
       "      <td>14.0</td>\n",
       "      <td>37290202</td>\n",
       "      <td>09/05/1994</td>\n",
       "      <td>25/03/2005</td>\n",
       "      <td>ATIVA</td>\n",
       "      <td>SEM MOTIVO</td>\n",
       "    </tr>\n",
       "    <tr>\n",
       "      <th>4</th>\n",
       "      <td>SP</td>\n",
       "      <td>DEMAIS</td>\n",
       "      <td>600000</td>\n",
       "      <td>1</td>\n",
       "      <td>118759</td>\n",
       "      <td>24</td>\n",
       "      <td>158602</td>\n",
       "      <td>102.0</td>\n",
       "      <td>60054654</td>\n",
       "      <td>09/05/1994</td>\n",
       "      <td>09/11/2002</td>\n",
       "      <td>ATIVA</td>\n",
       "      <td>SEM MOTIVO</td>\n",
       "    </tr>\n",
       "  </tbody>\n",
       "</table>\n",
       "</div>"
      ],
      "text/plain": [
       "  UF_EMP EMP_PORTE  EMP_CS_MAX  IMP_VOL  IMP_VAL  IMP_PESO  IMP_CUSTO  \\\n",
       "0     SP    DEMAIS       50000       64  9211744       169   11017585   \n",
       "1     SP    DEMAIS    23000000        1    31117         1      46250   \n",
       "2     SP    DEMAIS           0        8   554300       179     716987   \n",
       "3     SP    DEMAIS      300000       39  4560342       221    6138632   \n",
       "4     SP    DEMAIS      600000        1   118759        24     158602   \n",
       "\n",
       "   EMP_EMPREG   EMP_REC DT_ABERT_EMP Empresa - 6 Dia Sit. Cad. Atual (ID)  \\\n",
       "0        32.0  26309539   16/05/1994                           28/08/2004   \n",
       "1       256.0  28811802   06/05/1994                           03/11/2005   \n",
       "2        26.0   2526911   09/05/1994                           27/05/2021   \n",
       "3        14.0  37290202   09/05/1994                           25/03/2005   \n",
       "4       102.0  60054654   09/05/1994                           09/11/2002   \n",
       "\n",
       "  Empresa - Sit. Cad. Atual (Nome)  \\\n",
       "0                            ATIVA   \n",
       "1                            ATIVA   \n",
       "2                          BAIXADA   \n",
       "3                            ATIVA   \n",
       "4                            ATIVA   \n",
       "\n",
       "           Empresa - Sit. Cad. Motivo Atual (Nome)  \n",
       "0                                       SEM MOTIVO  \n",
       "1                                       SEM MOTIVO  \n",
       "2  EXTINCAO POR ENCERRAMENTO LIQUIDACAO VOLUNTARIA  \n",
       "3                                       SEM MOTIVO  \n",
       "4                                       SEM MOTIVO  "
      ]
     },
     "execution_count": 38,
     "metadata": {},
     "output_type": "execute_result"
    }
   ],
   "source": [
    "# Organizando as colunas no df_merged\n",
    "df_merged = df_merged[['UF_EMP', 'EMP_PORTE', 'EMP_CS_MAX', 'IMP_VOL',\n",
    "                       'IMP_VAL', 'IMP_PESO', 'IMP_CUSTO', 'EMP_EMPREG', 'EMP_REC', 'DT_ABERT_EMP', \n",
    "                       'Empresa - 6 Dia Sit. Cad. Atual (ID)', 'Empresa - Sit. Cad. Atual (Nome)', \n",
    "                       'Empresa - Sit. Cad. Motivo Atual (Nome)']]\n",
    "df_merged.head()"
   ]
  },
  {
   "cell_type": "code",
   "execution_count": 39,
   "metadata": {},
   "outputs": [
    {
     "data": {
      "text/plain": [
       "['UF_EMP',\n",
       " 'EMP_PORTE',\n",
       " 'EMP_CS_MAX',\n",
       " 'IMP_VOL',\n",
       " 'IMP_VAL',\n",
       " 'IMP_PESO',\n",
       " 'IMP_CUSTO',\n",
       " 'EMP_EMPREG',\n",
       " 'EMP_REC',\n",
       " 'DT_ABERT_EMP',\n",
       " 'Empresa - 6 Dia Sit. Cad. Atual (ID)',\n",
       " 'Empresa - Sit. Cad. Atual (Nome)',\n",
       " 'Empresa - Sit. Cad. Motivo Atual (Nome)']"
      ]
     },
     "execution_count": 39,
     "metadata": {},
     "output_type": "execute_result"
    }
   ],
   "source": [
    "# Listando as colunas para renomear\n",
    "list(df_merged.columns)"
   ]
  },
  {
   "cell_type": "code",
   "execution_count": 40,
   "metadata": {},
   "outputs": [
    {
     "data": {
      "text/plain": [
       "['UF_EMP',\n",
       " 'EMP_PORTE',\n",
       " 'EMP_CS_MAX',\n",
       " 'IMP_VOL',\n",
       " 'IMP_VAL',\n",
       " 'IMP_PESO',\n",
       " 'IMP_CUSTO',\n",
       " 'EMP_EMPREG',\n",
       " 'EMP_REC',\n",
       " 'DT_ABERT_EMP',\n",
       " 'DT_SIT_CAD_EMP',\n",
       " 'SIT_CAD_EMP',\n",
       " 'MOT_SIT_CAD_EMP']"
      ]
     },
     "execution_count": 40,
     "metadata": {},
     "output_type": "execute_result"
    }
   ],
   "source": [
    "# Renomeando as colunas\n",
    "df_merged.rename(columns={'Empresa - 6 Dia Sit. Cad. Atual (ID)' : 'DT_SIT_CAD_EMP', \n",
    "                          'Empresa - Sit. Cad. Atual (Nome)': 'SIT_CAD_EMP', \n",
    "                          'Empresa - Sit. Cad. Motivo Atual (Nome)': 'MOT_SIT_CAD_EMP'}, \n",
    "             inplace=True)\n",
    "list(df_merged.columns)"
   ]
  },
  {
   "cell_type": "code",
   "execution_count": 41,
   "metadata": {},
   "outputs": [],
   "source": [
    "# Criando csv de df_merged\n",
    "df_merged.to_csv(\"arquivos/df_merged.csv\", encoding = 'utf-8', index = False)"
   ]
  },
  {
   "cell_type": "code",
   "execution_count": 42,
   "metadata": {},
   "outputs": [
    {
     "data": {
      "text/html": [
       "<div>\n",
       "<style scoped>\n",
       "    .dataframe tbody tr th:only-of-type {\n",
       "        vertical-align: middle;\n",
       "    }\n",
       "\n",
       "    .dataframe tbody tr th {\n",
       "        vertical-align: top;\n",
       "    }\n",
       "\n",
       "    .dataframe thead th {\n",
       "        text-align: right;\n",
       "    }\n",
       "</style>\n",
       "<table border=\"1\" class=\"dataframe\">\n",
       "  <thead>\n",
       "    <tr style=\"text-align: right;\">\n",
       "      <th></th>\n",
       "      <th>UF_EMP</th>\n",
       "      <th>EMP_PORTE</th>\n",
       "      <th>EMP_CS_MAX</th>\n",
       "      <th>IMP_VOL</th>\n",
       "      <th>IMP_VAL</th>\n",
       "      <th>IMP_PESO</th>\n",
       "      <th>IMP_CUSTO</th>\n",
       "      <th>EMP_EMPREG</th>\n",
       "      <th>EMP_REC</th>\n",
       "      <th>DT_ABERT_EMP</th>\n",
       "      <th>DT_SIT_CAD_EMP</th>\n",
       "      <th>SIT_CAD_EMP</th>\n",
       "      <th>MOT_SIT_CAD_EMP</th>\n",
       "    </tr>\n",
       "  </thead>\n",
       "  <tbody>\n",
       "    <tr>\n",
       "      <th>0</th>\n",
       "      <td>SP</td>\n",
       "      <td>DEMAIS</td>\n",
       "      <td>50000</td>\n",
       "      <td>64</td>\n",
       "      <td>9211744</td>\n",
       "      <td>169</td>\n",
       "      <td>11017585</td>\n",
       "      <td>32.0</td>\n",
       "      <td>26309539</td>\n",
       "      <td>16/05/1994</td>\n",
       "      <td>28/08/2004</td>\n",
       "      <td>ATIVA</td>\n",
       "      <td>SEM MOTIVO</td>\n",
       "    </tr>\n",
       "    <tr>\n",
       "      <th>1</th>\n",
       "      <td>SP</td>\n",
       "      <td>DEMAIS</td>\n",
       "      <td>23000000</td>\n",
       "      <td>1</td>\n",
       "      <td>31117</td>\n",
       "      <td>1</td>\n",
       "      <td>46250</td>\n",
       "      <td>256.0</td>\n",
       "      <td>28811802</td>\n",
       "      <td>06/05/1994</td>\n",
       "      <td>03/11/2005</td>\n",
       "      <td>ATIVA</td>\n",
       "      <td>SEM MOTIVO</td>\n",
       "    </tr>\n",
       "    <tr>\n",
       "      <th>2</th>\n",
       "      <td>SP</td>\n",
       "      <td>DEMAIS</td>\n",
       "      <td>0</td>\n",
       "      <td>8</td>\n",
       "      <td>554300</td>\n",
       "      <td>179</td>\n",
       "      <td>716987</td>\n",
       "      <td>26.0</td>\n",
       "      <td>2526911</td>\n",
       "      <td>09/05/1994</td>\n",
       "      <td>27/05/2021</td>\n",
       "      <td>BAIXADA</td>\n",
       "      <td>EXTINCAO POR ENCERRAMENTO LIQUIDACAO VOLUNTARIA</td>\n",
       "    </tr>\n",
       "    <tr>\n",
       "      <th>3</th>\n",
       "      <td>SP</td>\n",
       "      <td>DEMAIS</td>\n",
       "      <td>300000</td>\n",
       "      <td>39</td>\n",
       "      <td>4560342</td>\n",
       "      <td>221</td>\n",
       "      <td>6138632</td>\n",
       "      <td>14.0</td>\n",
       "      <td>37290202</td>\n",
       "      <td>09/05/1994</td>\n",
       "      <td>25/03/2005</td>\n",
       "      <td>ATIVA</td>\n",
       "      <td>SEM MOTIVO</td>\n",
       "    </tr>\n",
       "    <tr>\n",
       "      <th>4</th>\n",
       "      <td>SP</td>\n",
       "      <td>DEMAIS</td>\n",
       "      <td>600000</td>\n",
       "      <td>1</td>\n",
       "      <td>118759</td>\n",
       "      <td>24</td>\n",
       "      <td>158602</td>\n",
       "      <td>102.0</td>\n",
       "      <td>60054654</td>\n",
       "      <td>09/05/1994</td>\n",
       "      <td>09/11/2002</td>\n",
       "      <td>ATIVA</td>\n",
       "      <td>SEM MOTIVO</td>\n",
       "    </tr>\n",
       "  </tbody>\n",
       "</table>\n",
       "</div>"
      ],
      "text/plain": [
       "  UF_EMP EMP_PORTE  EMP_CS_MAX  IMP_VOL  IMP_VAL  IMP_PESO  IMP_CUSTO  \\\n",
       "0     SP    DEMAIS       50000       64  9211744       169   11017585   \n",
       "1     SP    DEMAIS    23000000        1    31117         1      46250   \n",
       "2     SP    DEMAIS           0        8   554300       179     716987   \n",
       "3     SP    DEMAIS      300000       39  4560342       221    6138632   \n",
       "4     SP    DEMAIS      600000        1   118759        24     158602   \n",
       "\n",
       "   EMP_EMPREG   EMP_REC DT_ABERT_EMP DT_SIT_CAD_EMP SIT_CAD_EMP  \\\n",
       "0        32.0  26309539   16/05/1994     28/08/2004       ATIVA   \n",
       "1       256.0  28811802   06/05/1994     03/11/2005       ATIVA   \n",
       "2        26.0   2526911   09/05/1994     27/05/2021     BAIXADA   \n",
       "3        14.0  37290202   09/05/1994     25/03/2005       ATIVA   \n",
       "4       102.0  60054654   09/05/1994     09/11/2002       ATIVA   \n",
       "\n",
       "                                   MOT_SIT_CAD_EMP  \n",
       "0                                       SEM MOTIVO  \n",
       "1                                       SEM MOTIVO  \n",
       "2  EXTINCAO POR ENCERRAMENTO LIQUIDACAO VOLUNTARIA  \n",
       "3                                       SEM MOTIVO  \n",
       "4                                       SEM MOTIVO  "
      ]
     },
     "execution_count": 42,
     "metadata": {},
     "output_type": "execute_result"
    }
   ],
   "source": [
    "# Verificando csv de df_merged\n",
    "df_merged = pd.read_csv('arquivos/df_merged.csv', sep = ',')\n",
    "df_merged.head()"
   ]
  }
 ],
 "metadata": {
  "kernelspec": {
   "display_name": "Python 3",
   "language": "python",
   "name": "python3"
  },
  "language_info": {
   "codemirror_mode": {
    "name": "ipython",
    "version": 3
   },
   "file_extension": ".py",
   "mimetype": "text/x-python",
   "name": "python",
   "nbconvert_exporter": "python",
   "pygments_lexer": "ipython3",
   "version": "3.8.5"
  }
 },
 "nbformat": 4,
 "nbformat_minor": 4
}
