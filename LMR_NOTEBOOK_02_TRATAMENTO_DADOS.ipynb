{
 "cells": [
  {
   "cell_type": "markdown",
   "metadata": {},
   "source": [
    "# \n",
    "# Utilização de Algorítmos de Machine Learning para Identificação de Empresas \"de Fachada\" em Operações de Importação\n",
    "TCC PUC Minas - LUCIANA MACEDO RODRIGUES"
   ]
  },
  {
   "cell_type": "markdown",
   "metadata": {},
   "source": [
    "### NOTEBOOK 2 - TRATAMENTO DOS DADOS\n",
    "\n",
    "### 1 - Configurações iniciais"
   ]
  },
  {
   "cell_type": "code",
   "execution_count": null,
   "metadata": {},
   "outputs": [],
   "source": [
    "# Importando os pacotes necessários\n",
    "import pandas as pd\n",
    "import numpy as np\n",
    "import datetime\n",
    "from datetime import date"
   ]
  },
  {
   "cell_type": "markdown",
   "metadata": {},
   "source": [
    "### 2 - Leitura das bases de dados"
   ]
  },
  {
   "cell_type": "code",
   "execution_count": null,
   "metadata": {},
   "outputs": [],
   "source": [
    "df_merged = pd.read_csv('arquivos/df_merged.csv', sep = ',')"
   ]
  },
  {
   "cell_type": "code",
   "execution_count": null,
   "metadata": {},
   "outputs": [],
   "source": [
    "df_merged.head()"
   ]
  },
  {
   "cell_type": "markdown",
   "metadata": {},
   "source": [
    "### 3 - Tratamento dos dados\n",
    "\n",
    "### 3.1 - Valores nulos"
   ]
  },
  {
   "cell_type": "code",
   "execution_count": null,
   "metadata": {},
   "outputs": [],
   "source": [
    "df_merged.isnull().sum()"
   ]
  },
  {
   "cell_type": "markdown",
   "metadata": {},
   "source": [
    "Os 307 valores nulos na coluna 'EMP_REC' decorrem da ausência de Receita Brusta Estimada para essas empresas (conforme evidenciado no NOTEBOOK01 pela diferença do número de linhas de dadosADU = 20.953 e dadosRB = 20.646), portanto a melhor forma de representá-los é com o numeral 0, ou seja: nenhuma Receita Bruta Estimada no período.\n",
    "\n",
    "O mesmo ocorre com os 1.937 valores nulos na coluna 'EMP_EMPREG' que decorrem da ausência de dados de empregados em dadosDIRF para essas empresas (conforme evidenciado no NOTEBOOK01 pela diferença do número de linhas de dadosADU = 20.953 e dadosDIRF = 19.016), que também serão substistituidos pelo o numeral 0, indicando nenhum empregado no período."
   ]
  },
  {
   "cell_type": "code",
   "execution_count": null,
   "metadata": {},
   "outputs": [],
   "source": [
    "# Substituindo os valores NaN por 0 na coluna 'EMP_RB'\n",
    "df_merged['EMP_REC'].fillna(0, inplace = True)\n",
    "df_merged['EMP_REC'].isnull().sum()"
   ]
  },
  {
   "cell_type": "code",
   "execution_count": null,
   "metadata": {},
   "outputs": [],
   "source": [
    "# Substituindo os valores NaN por 0 na coluna 'EMP_EMPREG'\n",
    "df_merged['EMP_EMPREG'].fillna(0, inplace = True)\n",
    "df_merged['EMP_EMPREG'].isnull().sum()"
   ]
  },
  {
   "cell_type": "markdown",
   "metadata": {},
   "source": [
    "O valor nulo na coluna \"DT_ABERT_EMP\" não é esperado, por isso verificamos essa linha e por se tratar de uma empresa ativa, optamos por descartá-la, sem comprometer o modelo. Caso fosse uma das poucas instâncias das empresas \"alvo\", poderíamos estudar outro tratamento. "
   ]
  },
  {
   "cell_type": "code",
   "execution_count": null,
   "metadata": {},
   "outputs": [],
   "source": [
    "# Localizando o índice das linhas de df_merged que contém valor nulo na coluna DT_ABERT_EMP\n",
    "np.where(df_merged[\"DT_ABERT_EMP\"].isnull())"
   ]
  },
  {
   "cell_type": "code",
   "execution_count": null,
   "metadata": {},
   "outputs": [],
   "source": [
    "# Verificando os demais dados dessa linha\n",
    "linha = df_merged.iloc[[12064]]\n",
    "linha"
   ]
  },
  {
   "cell_type": "code",
   "execution_count": null,
   "metadata": {},
   "outputs": [],
   "source": [
    "# Eliminando a linha de index 12064\n",
    "df_merged.drop(index=[12064],inplace=True)\n",
    "df_merged['DT_ABERT_EMP'].isnull().sum()"
   ]
  },
  {
   "cell_type": "markdown",
   "metadata": {},
   "source": [
    "Os 555 valores nulos na coluna \"DT_SIT_CAD_EMP\" também não são esperados, representando algum erro no dataset original. \n",
    "Optamos por descartar essas linhas."
   ]
  },
  {
   "cell_type": "code",
   "execution_count": null,
   "metadata": {},
   "outputs": [],
   "source": [
    "# Eliminando as 555 linhas que contém dados faltantes na coluna \"DT_SIT_CAD_EMP\". O df_merged passará a ter só 20.397 linhas.\n",
    "df_merged.dropna(subset=['DT_SIT_CAD_EMP'], inplace=True)\n",
    "df_merged['DT_SIT_CAD_EMP'].isnull().sum()"
   ]
  },
  {
   "cell_type": "code",
   "execution_count": null,
   "metadata": {},
   "outputs": [],
   "source": [
    "df_merged.isnull().sum()"
   ]
  },
  {
   "cell_type": "markdown",
   "metadata": {},
   "source": [
    "### 3.2 - Tipos dos dados"
   ]
  },
  {
   "cell_type": "code",
   "execution_count": null,
   "metadata": {},
   "outputs": [],
   "source": [
    "# Tipos de Dados\n",
    "df_merged.dtypes"
   ]
  },
  {
   "cell_type": "code",
   "execution_count": null,
   "metadata": {},
   "outputs": [],
   "source": [
    "# Corrigindo os dtype das colunas que se referem à datas no df_merged\n",
    "df_merged = df_merged.astype({'DT_ABERT_EMP': 'datetime64',\n",
    "                              'DT_SIT_CAD_EMP' : 'datetime64'})"
   ]
  },
  {
   "cell_type": "code",
   "execution_count": null,
   "metadata": {},
   "outputs": [],
   "source": [
    "df_merged.head()"
   ]
  },
  {
   "cell_type": "code",
   "execution_count": null,
   "metadata": {},
   "outputs": [],
   "source": [
    "# Arrumar os dtypes de 'EMP_REC' e 'EMP_EMPREG' para int64\n",
    "df_merged = df_merged.astype({'EMP_REC': 'int64'})"
   ]
  },
  {
   "cell_type": "markdown",
   "metadata": {},
   "source": [
    "Ao tentar converter os tipos de dados da coluna \"EMP_REC\", verificamos que havia várias linhas com o valor nulo preenchidas com ' -   ' interpretadas como objetos pelo pandas."
   ]
  },
  {
   "cell_type": "code",
   "execution_count": null,
   "metadata": {},
   "outputs": [],
   "source": [
    "# Verificando as linhas com problema\n",
    "np.where(df_merged['EMP_REC'] == ' -   ')"
   ]
  },
  {
   "cell_type": "code",
   "execution_count": null,
   "metadata": {},
   "outputs": [],
   "source": [
    "# Convertendo os dados da coluna EMP_REC' para números e NaN\n",
    "df_merged['EMP_REC']=pd.to_numeric(df_merged['EMP_REC'], errors='coerce')"
   ]
  },
  {
   "cell_type": "code",
   "execution_count": null,
   "metadata": {},
   "outputs": [],
   "source": [
    "# substituindo os NaN por \"0\"\n",
    "df_merged['EMP_REC'].fillna(0, inplace = True)"
   ]
  },
  {
   "cell_type": "code",
   "execution_count": null,
   "metadata": {},
   "outputs": [],
   "source": [
    "# Corrigindo o tipo de dados em 'EMP_REC' para int64\n",
    "df_merged = df_merged.astype({'EMP_REC': 'int64'})"
   ]
  },
  {
   "cell_type": "code",
   "execution_count": null,
   "metadata": {},
   "outputs": [],
   "source": [
    "# Corrigindo o tipo de dados em 'EMP_EMPREG' para int64\n",
    "df_merged = df_merged.astype({'EMP_EMPREG': 'int64'})"
   ]
  },
  {
   "cell_type": "code",
   "execution_count": null,
   "metadata": {},
   "outputs": [],
   "source": [
    "# Verificando os tipos de dados após alterações\n",
    "df_merged.dtypes"
   ]
  },
  {
   "cell_type": "code",
   "execution_count": null,
   "metadata": {
    "scrolled": true
   },
   "outputs": [],
   "source": [
    "# Verificando a integridade dos dados\n",
    "df_merged.head()"
   ]
  },
  {
   "cell_type": "markdown",
   "metadata": {},
   "source": [
    "### 3.3 Classes das variáveis categóricas"
   ]
  },
  {
   "cell_type": "code",
   "execution_count": null,
   "metadata": {},
   "outputs": [],
   "source": [
    "# Verificando as classes da variável categórica 'UF_EMP'\n",
    "freq_df_merged = df_merged.groupby(['UF_EMP']).size()\n",
    "freq_df_merged"
   ]
  },
  {
   "cell_type": "code",
   "execution_count": null,
   "metadata": {},
   "outputs": [],
   "source": [
    "# Verificando as classes da variável categórica 'EMP_PORTE'\n",
    "freq_df_merged = df_merged.groupby(['EMP_PORTE']).size()\n",
    "freq_df_merged"
   ]
  },
  {
   "cell_type": "markdown",
   "metadata": {},
   "source": [
    "A classe 'inválido' representa um erro do dataset original situado dentro da classe das empresas alvo, como evidenciado abaixo. Assim, optamos por substituí-lo pelo valor da classe dominante, ao invés de excluir a linha."
   ]
  },
  {
   "cell_type": "code",
   "execution_count": null,
   "metadata": {},
   "outputs": [],
   "source": [
    "np.where(df_merged['EMP_PORTE'] == 'INVALIDO')"
   ]
  },
  {
   "cell_type": "code",
   "execution_count": null,
   "metadata": {},
   "outputs": [],
   "source": [
    "# Verificando os demais dados dessa linha\n",
    "linha = df_merged.iloc[[13707]]\n",
    "linha"
   ]
  },
  {
   "cell_type": "code",
   "execution_count": null,
   "metadata": {},
   "outputs": [],
   "source": [
    "# Substituindo o valor INVÁLIDO pela classe dominante da variável categórica\n",
    "df_merged = df_merged.replace('INVALIDO', 'DEMAIS')"
   ]
  },
  {
   "cell_type": "markdown",
   "metadata": {},
   "source": [
    "### 3.4 - Definição e formatação da variável TARGET.\n",
    "\n",
    "A variável target do estudo consiste na combinação dos valores da coluna SIT_CAD_EMP (que representam a situação cadastral da empresa),  com os valores da coluna MOT_SIT_CAD_EMP (que representam o motivo daquela situação cadastral).\n",
    "\n",
    "Consideraremos \"empresas de fachada\", portanto \"positivas\", aquelas com situação cadastral diferente de \"ativa\", desde que os motivos atribuidos àquelas situações sejam decorrentes de irregularidades fiscais, representados por: \"inexistente de fato\", \n",
    "\"localização desconhecida\", \"omissão de declarações\", \"prática irregular de operação de comércio exterior\",\"inconsistência cadastral\".\n",
    "\n",
    "Para tanto, atribuiremos valores \"1\" para as variáveis de interesse acima e \"0\" para as demais em ambas as colunas, substituindo os valores orginais e criando uma nova coluna \"TARGET\" fruto da multiplicação das duas colunas de forma que as variáveis resultantes sejam \"1\" para casos positivos e \"0\" para os casos negativos."
   ]
  },
  {
   "cell_type": "code",
   "execution_count": null,
   "metadata": {},
   "outputs": [],
   "source": [
    "# Substituindo os dados \n",
    "dict_subst = {\"ATIVA\": 0, \"BAIXADA\": 1, \"INAPTA\": 1, \"SUSPENSA\": 1, \"SEM MOTIVO\": 0, \n",
    "              \"EXTINCAO POR ENCERRAMENTO LIQUIDACAO VOLUNTARIA\": 0, \"INCORPORACAO\": 0, \n",
    "              \"INEXISTENTE DE FATO\": 1, \"LOCALIZACAO DESCONHECIDA\": 1, \"OMISSAO DE DECLARACOES\": 1,\n",
    "              \"PRATICA IRREGULAR DE OPERACAO DE COMERCIO EXTERIOR\": 1, \"INCONSISTENCIA CADASTRAL\": 1,\n",
    "              \"INTERRUPCAO TEMPORARIA DAS ATIVIDADES\": 0, \"PEDIDO DE BAIXA INDEFERIDA\": 0}\n",
    "df_merged = df_merged.replace(dict_subst)"
   ]
  },
  {
   "cell_type": "code",
   "execution_count": null,
   "metadata": {},
   "outputs": [],
   "source": [
    "# Verificando alterações\n",
    "freq_df_merged = df_merged.groupby(['SIT_CAD_EMP', 'MOT_SIT_CAD_EMP']).size()\n",
    "freq_df_merged"
   ]
  },
  {
   "cell_type": "code",
   "execution_count": null,
   "metadata": {},
   "outputs": [],
   "source": [
    "# Obtendo todas as informações de df_merged. O tipo de dados das duas últimas colunas agora é int64\n",
    "df_merged.info()"
   ]
  },
  {
   "cell_type": "code",
   "execution_count": null,
   "metadata": {},
   "outputs": [],
   "source": [
    "# Criando a coluna TARGET\n",
    "df_merged['TARGET'] = df_merged['SIT_CAD_EMP'] * df_merged['MOT_SIT_CAD_EMP']\n",
    "df_merged.head()"
   ]
  },
  {
   "cell_type": "code",
   "execution_count": null,
   "metadata": {},
   "outputs": [],
   "source": [
    "# Verificando alterações\n",
    "freq_df_merged = df_merged.groupby(['SIT_CAD_EMP', 'MOT_SIT_CAD_EMP', 'TARGET']).size()\n",
    "freq_df_merged"
   ]
  },
  {
   "cell_type": "markdown",
   "metadata": {},
   "source": [
    "### 3.5 - Definição e formatação da variável ANOS_ATIVA\n",
    "\n",
    "Desejamos trazer ao estudo o tempo de atividade das empresas analisadas, expresso em anos, o que faremos usando o módulo datetime.\n",
    "\n",
    "Para as empresas ativas, faremos o cálculo subtraindo da data atual os valores da coluna \"DT_ABERT_EMP\", para as demais faremos o cálculo subtraindo dos dados da coluna \"DT_SIT_CAD_EMP\" que representa a data da última alteração cadastral das empresa e, portanto, equivale à data de encerramento/suspensão das suas atividades."
   ]
  },
  {
   "cell_type": "code",
   "execution_count": null,
   "metadata": {},
   "outputs": [],
   "source": [
    "# Criando uma coluna 'DATA_ATUAL'\n",
    "data_atual = date.today()\n",
    "df_merged['DATA_ATUAL'] = data_atual\n",
    "df_merged = df_merged.astype({'DATA_ATUAL': 'datetime64'})\n",
    "df_merged.head()"
   ]
  },
  {
   "cell_type": "code",
   "execution_count": null,
   "metadata": {},
   "outputs": [],
   "source": [
    "df_merged.info()"
   ]
  },
  {
   "cell_type": "code",
   "execution_count": null,
   "metadata": {},
   "outputs": [],
   "source": [
    "# Criando a coluna 'ANOS_ATIVA' com a primeira condição\n",
    "df_merged.loc[df_merged['SIT_CAD_EMP'] != 0, 'ANOS_ATIVA' ] = ((df_merged['DT_SIT_CAD_EMP'] - df_merged['DT_ABERT_EMP'])\n",
    "                                                            /np.timedelta64(1 , 'Y')).astype(int)\n",
    "df_merged.head()"
   ]
  },
  {
   "cell_type": "code",
   "execution_count": null,
   "metadata": {},
   "outputs": [],
   "source": [
    "# Preenchendo a coluna 'ANOS_ATIVA' com a segunda condição\n",
    "df_merged.loc[df_merged['SIT_CAD_EMP'] == 0, 'ANOS_ATIVA' ] = ((df_merged['DATA_ATUAL'] - df_merged['DT_ABERT_EMP'])\n",
    "                                                            /np.timedelta64(1 , 'Y')).astype(int)\n",
    "df_merged.head()"
   ]
  },
  {
   "cell_type": "code",
   "execution_count": null,
   "metadata": {},
   "outputs": [],
   "source": [
    "df_merged = df_merged.astype({'ANOS_ATIVA': 'int64'})"
   ]
  },
  {
   "cell_type": "markdown",
   "metadata": {},
   "source": [
    "### 3.6 - Organizando e salvando o df_final "
   ]
  },
  {
   "cell_type": "markdown",
   "metadata": {},
   "source": [
    "Eliminaremos as colunas desnecessárias criando o dataframe final que será utilizado no modelo."
   ]
  },
  {
   "cell_type": "code",
   "execution_count": null,
   "metadata": {},
   "outputs": [],
   "source": [
    "# Criando df_final\n",
    "df_final = df_merged.copy()"
   ]
  },
  {
   "cell_type": "code",
   "execution_count": null,
   "metadata": {},
   "outputs": [],
   "source": [
    "# \"Limpando\" df_final (RASCUNHO)\n",
    "df_final.drop(columns=['DT_ABERT_EMP', 'DT_SIT_CAD_EMP', 'SIT_CAD_EMP', 'MOT_SIT_CAD_EMP','DATA_ATUAL'],inplace=True)"
   ]
  },
  {
   "cell_type": "code",
   "execution_count": null,
   "metadata": {},
   "outputs": [],
   "source": [
    "# Organizando as colunas no df_final\n",
    "df_final = df_final[['UF_EMP', 'EMP_PORTE', 'EMP_CS_MAX', 'IMP_VOL',\n",
    "                       'IMP_VAL', 'IMP_PESO', 'IMP_CUSTO', 'EMP_EMPREG', 'EMP_REC', 'ANOS_ATIVA', \n",
    "                       'TARGET']]"
   ]
  },
  {
   "cell_type": "code",
   "execution_count": null,
   "metadata": {},
   "outputs": [],
   "source": [
    "# Criando csv de df_final\n",
    "df_final.to_csv(\"arquivos/df_final.csv\", encoding = 'utf-8', index = False)"
   ]
  },
  {
   "cell_type": "code",
   "execution_count": null,
   "metadata": {},
   "outputs": [],
   "source": [
    "# Verificando csv de df_final\n",
    "df_final = pd.read_csv('arquivos/df_final.csv', sep = ',')\n",
    "df_final.head()"
   ]
  }
 ],
 "metadata": {
  "kernelspec": {
   "display_name": "Python 3",
   "language": "python",
   "name": "python3"
  },
  "language_info": {
   "codemirror_mode": {
    "name": "ipython",
    "version": 3
   },
   "file_extension": ".py",
   "mimetype": "text/x-python",
   "name": "python",
   "nbconvert_exporter": "python",
   "pygments_lexer": "ipython3",
   "version": "3.8.5"
  }
 },
 "nbformat": 4,
 "nbformat_minor": 4
}
