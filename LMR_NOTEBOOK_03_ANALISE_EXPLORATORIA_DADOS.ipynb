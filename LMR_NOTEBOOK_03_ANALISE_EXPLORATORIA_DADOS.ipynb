{
 "cells": [
  {
   "cell_type": "markdown",
   "metadata": {},
   "source": [
    "# \n",
    "# Utilização de Algorítmos de Machine Learning para Identificação de Empresas \"de Fachada\" em Operações de Importação\n",
    "TCC PUC Minas - LUCIANA MACEDO RODRIGUES"
   ]
  },
  {
   "cell_type": "markdown",
   "metadata": {},
   "source": [
    "### NOTEBOOK 3 - ANÁLISE EXPLORATÓRIA DOS DADOS\n",
    "\n",
    "### 1 - Configurações iniciais"
   ]
  },
  {
   "cell_type": "code",
   "execution_count": null,
   "metadata": {},
   "outputs": [],
   "source": [
    "# Importando os pacotes necessários\n",
    "import pandas as pd\n",
    "import numpy as np\n",
    "import plotly.express as px\n",
    "import matplotlib.pyplot as plt \n",
    "import seaborn as sns"
   ]
  },
  {
   "cell_type": "markdown",
   "metadata": {},
   "source": [
    "### 2 - Leitura do dataframe final"
   ]
  },
  {
   "cell_type": "code",
   "execution_count": null,
   "metadata": {},
   "outputs": [],
   "source": [
    "df_final = pd.read_csv('arquivos/df_final.csv', sep = ',')\n",
    "df_final.head()"
   ]
  },
  {
   "cell_type": "code",
   "execution_count": null,
   "metadata": {},
   "outputs": [],
   "source": [
    "# Dimensões do dataframe final\n",
    "df_final.shape"
   ]
  },
  {
   "cell_type": "markdown",
   "metadata": {},
   "source": [
    "### 3 - Classificação das Variáveis"
   ]
  },
  {
   "cell_type": "code",
   "execution_count": null,
   "metadata": {},
   "outputs": [],
   "source": [
    "df_final.info()"
   ]
  },
  {
   "cell_type": "code",
   "execution_count": null,
   "metadata": {},
   "outputs": [],
   "source": [
    "# Corrigindo o tipo da variável alvo\n",
    "df_final = df_final.astype({'TARGET': 'object'})"
   ]
  },
  {
   "cell_type": "markdown",
   "metadata": {},
   "source": [
    "### 3.1 - Variáveis Qualitativas ou Categóricas\n",
    "\n",
    "     - UF_EMP                 Qualitativa Nominal (Dtype: object)\n",
    "     - EMP_PORTE              Qualitativa Ordinal (Dtype: object)\n",
    "\n",
    "### 3.2 - Variáveis Quantitativas ou Numéricas\n",
    " \n",
    "     - EMP_CS_MAX             Quantitativa Discreta (Dtype: int64) \n",
    "     - IMP_VOL                Quantitativa Discreta (Dtype: int64) \n",
    "     - IMP_VAL                Quantitativa Discreta (Dtype: int64) \n",
    "     - IMP_PESO               Quantitativa Contínua (Dtype: int64)\n",
    "     - IMP_CUSTO              Quantitativa Discreta (Dtype: int64)\n",
    "     - EMP_EMPREG             Quantitativa Discreta (Dtype: int64)\n",
    "     - EMP_REC                Quantitativa Discreta (Dtype: int64)\n",
    "     - ANOS_ATIVA             Quantitativa Discreta (Dtype: int64)\n",
    "\n",
    "### 3.3 - Variável \"alvo\", a ser separada\n",
    "\n",
    "    - TARGET                  Qualitativa Nominal (Dtype: object) "
   ]
  },
  {
   "cell_type": "markdown",
   "metadata": {},
   "source": [
    "### 4 - Análise Exploratória dos Dados\n",
    "\n",
    "Os \"missign values\", valores duplicados e alguns outros problemas foram identificados e tratados nas etapas de coleta e tratamento dos dados conforme demonstrado nos NOTEBOOKs 01 e 02, resultando no dataframe final composto por 20397 observações únicas e 11 variáveis, das quais 3 são qualitativas/categóricas e 8 são quantitativas/numéricas. "
   ]
  },
  {
   "cell_type": "code",
   "execution_count": null,
   "metadata": {},
   "outputs": [],
   "source": [
    "# Quantidade de valores únicos\n",
    "df_final.nunique()"
   ]
  },
  {
   "cell_type": "markdown",
   "metadata": {},
   "source": [
    "### 4 - 1 Variáveis Qualitativas"
   ]
  },
  {
   "cell_type": "code",
   "execution_count": null,
   "metadata": {},
   "outputs": [],
   "source": [
    "# Distribuição de frequências das classes da variável 'UF_EMP'\n",
    "sns.set(rc={'figure.figsize':(15,5)})\n",
    "plt.title('Distribuição das matrizes das empresas por UF')\n",
    "sns.countplot(x=df_final.UF_EMP, data=df_final, palette='tab10')\n",
    "plt.show()"
   ]
  },
  {
   "cell_type": "code",
   "execution_count": null,
   "metadata": {},
   "outputs": [],
   "source": [
    "# Verificando as classes da variável categórica 'UF_MATRIZ_EMP'\n",
    "freq_df_final = df_final.groupby(['UF_EMP']).size()\n",
    "freq_df_final"
   ]
  },
  {
   "cell_type": "markdown",
   "metadata": {},
   "source": [
    "O Porto de Santos é o maior do Brasil e, portanto, rota de entrada principal ou eventual das importações de empresas com matrizes em todo país, justificando a alta cardinalidade observada para a variável categórica acima.\n",
    "\n",
    "SP e MG ocupam respectivamente o primeiro e segundo lugar no ranking de concentração de empresas do país. Isso aliado a questões econômicas e de logística pode ter influenciado a maior frequência da nossa amostra nos dois estados."
   ]
  },
  {
   "cell_type": "code",
   "execution_count": null,
   "metadata": {},
   "outputs": [],
   "source": [
    "# # Distribuição de frequências das classes da variável 'EMP_PORTE'\n",
    "plt.title('Porte das empresas')\n",
    "sns.countplot(x ='EMP_PORTE', data=df_final, palette='tab10')\n",
    "plt.show()"
   ]
  },
  {
   "cell_type": "code",
   "execution_count": null,
   "metadata": {},
   "outputs": [],
   "source": [
    "# Demonstrando o desbalanceamento das classes de 'TARGET'\n",
    "plt.title('Distribuição das classes da variável alvo')\n",
    "sns.countplot(x='TARGET', data=df_final, palette='tab10')\n",
    "plt.show()"
   ]
  },
  {
   "cell_type": "markdown",
   "metadata": {},
   "source": [
    "### 4 - 2 Variáveis Quantitativas"
   ]
  },
  {
   "cell_type": "code",
   "execution_count": null,
   "metadata": {},
   "outputs": [],
   "source": [
    "# Boxplot geral de todas as variáveis quantitativas \n",
    "df_qual = df_final[['EMP_CS_MAX', 'IMP_VOL', 'IMP_VAL', 'IMP_PESO', 'IMP_CUSTO', 'EMP_EMPREG', 'EMP_REC', 'ANOS_ATIVA']]\n",
    "sns.boxplot(data=df_qual, orient=\"h\", palette='deep')\n",
    "plt.title('Boxplot das variáveis quantitativas')\n",
    "plt.show()"
   ]
  },
  {
   "cell_type": "code",
   "execution_count": null,
   "metadata": {},
   "outputs": [],
   "source": [
    "# Estatística básica das variáveis quantitativas\n",
    "pd.set_option ('float_format','{:.2f}'.format)\n",
    "df_final.describe()"
   ]
  },
  {
   "cell_type": "markdown",
   "metadata": {},
   "source": [
    "Os dados e gráfico acima, revelam que as variáveis quantitativas selecionadas para o estudo apresentam forte assimetria à esquerda, acentuada pela presença de valores muito extremos nos limites máximos da distribuição (outliers).\n",
    "\n",
    "Para facilitar a análise dos nossos dados antes de qualquer transformação, optamos por utilizar a seguir gráficos de distribuição gerados com Plotly.js que possibilitam a visualização com zoom interativo. \n",
    "\n",
    "Optamos também por trazer as proporções da TARGET nos gráficos para melhor compreensão do perfil das empresas alvo. "
   ]
  },
  {
   "cell_type": "code",
   "execution_count": null,
   "metadata": {},
   "outputs": [],
   "source": [
    "# Gerando visualização gráfica de EMP_CS_MAX\n",
    "px.histogram(df_final, x='EMP_CS_MAX', color = 'TARGET', nbins=40, marginal='box', \n",
    "             title = 'Histograma e Boxplot da variável EMP_CS_MAX', labels={'EMP_CS_MAX': 'Capital Social'},\n",
    "             template='plotly_white', color_discrete_sequence=px.colors.qualitative.T10)"
   ]
  },
  {
   "cell_type": "code",
   "execution_count": null,
   "metadata": {},
   "outputs": [],
   "source": [
    "# Gerando visualização gráfica boxplot de CS_MAX (limite superior Q4 da Classe 0)\n",
    "px.box(df_final, x='EMP_CS_MAX', color = 'TARGET', title = 'Boxplot da variável EMP_CS_MAX - Corte no 4Q', \n",
    "       labels={'EMP_CS_MAX': 'Capital Social'}, template='plotly_white', \n",
    "       color_discrete_sequence=px.colors.qualitative.T10, range_x= (0,8650000))"
   ]
  },
  {
   "cell_type": "code",
   "execution_count": null,
   "metadata": {},
   "outputs": [],
   "source": [
    "# Gerando visualização gráfica de IMP_VOL\n",
    "px.histogram(df_final, x='IMP_VOL', color = 'TARGET', nbins=40, marginal='box', \n",
    "             title = 'Histograma e Boxplot da variável IMP_VOL', labels={'IMP_VOL': 'Importação - Volume'}, template='plotly_white', \n",
    "             color_discrete_sequence=px.colors.qualitative.T10, orientation = 'v')"
   ]
  },
  {
   "cell_type": "code",
   "execution_count": null,
   "metadata": {},
   "outputs": [],
   "source": [
    "# Gerando visualização gráfica boxplot de IMP_VOL (limite superior Q4 da Classe 0)\n",
    "px.box(df_final, x='IMP_VOL', color = 'TARGET', title = 'Boxplot da variável IMP_VOL - Corte no 4Q', \n",
    "       labels={'IMP_VOL': 'Importação - Volume'}, template='plotly_white', \n",
    "       color_discrete_sequence=px.colors.qualitative.T10, range_x= (0,42))"
   ]
  },
  {
   "cell_type": "code",
   "execution_count": null,
   "metadata": {},
   "outputs": [],
   "source": [
    "# Gerando visualização gráfica de IMP_VAL\n",
    "px.histogram(df_final, x='IMP_VAL', color = 'TARGET', nbins=40, marginal='box', \n",
    "             title = 'Histograma e Boxplot da variável IMP_VAL', labels={'IMP_VAL': 'Importação - Valores em R$'}, template='plotly_white', \n",
    "             color_discrete_sequence=px.colors.qualitative.T10)"
   ]
  },
  {
   "cell_type": "code",
   "execution_count": null,
   "metadata": {},
   "outputs": [],
   "source": [
    "# Gerando visualização gráfica boxplot de IMP_VAL (limite superior Q4 da Classe 0)\n",
    "px.box(df_final, x='IMP_VAL', color = 'TARGET', title = 'Boxplot da variável IMP_VAL - Corte no 4Q', \n",
    "       labels={'IMP_VAL': 'Importação - Valores em R$'}, template='plotly_white', \n",
    "       color_discrete_sequence=px.colors.qualitative.T10, range_x= (0,7350000))"
   ]
  },
  {
   "cell_type": "code",
   "execution_count": null,
   "metadata": {},
   "outputs": [],
   "source": [
    "# Gerando visualização gráfica de IMP_PESO\n",
    "px.histogram(df_final, x='IMP_PESO', color = 'TARGET', nbins=40, marginal='box', \n",
    "             title = 'Histograma e Boxplot da variável IMP_PESO', labels={'IMP_PESO': 'Importação - Peso em Toneladas'}, template='plotly_white', \n",
    "             color_discrete_sequence=px.colors.qualitative.T10)"
   ]
  },
  {
   "cell_type": "code",
   "execution_count": null,
   "metadata": {},
   "outputs": [],
   "source": [
    "# Gerando visualização gráfica boxplot de IMP_PESO (limite superior Q4 da Classe 0)\n",
    "px.box(df_final, x='IMP_PESO', color = 'TARGET', title = 'Boxplot da variável IMP_PESO - Corte no 4Q', \n",
    "       labels={'IMP_PESO': 'Importação - Valores em R$'}, template='plotly_white', \n",
    "       color_discrete_sequence=px.colors.qualitative.T10, range_x= (0,360))"
   ]
  },
  {
   "cell_type": "code",
   "execution_count": null,
   "metadata": {},
   "outputs": [],
   "source": [
    "# Gerando visualização gráfica de IMP_CUSTO\n",
    "px.histogram(df_final, x='IMP_CUSTO', color = 'TARGET', nbins=40, marginal='box', \n",
    "             title = 'Histograma e Boxplot da variável IMP_CUSTO', labels={'IMP_CUSTO': 'Importação - Valores em R$ acrescidos de tributos'}, template='plotly_white', \n",
    "             color_discrete_sequence=px.colors.qualitative.T10)"
   ]
  },
  {
   "cell_type": "code",
   "execution_count": null,
   "metadata": {},
   "outputs": [],
   "source": [
    "# Gerando visualização gráfica boxplot de IMP_CUSTO (limite superior Q4 da Classe 0)\n",
    "px.box(df_final, x='IMP_CUSTO', color = 'TARGET', title = 'Boxplot da variável IMP_CUSTO - Corte no 4Q', \n",
    "       labels={'IMP_CUSTO': 'Importação - Valores em R$ acrescidos de tributos'}, template='plotly_white', \n",
    "       color_discrete_sequence=px.colors.qualitative.T10, range_x= (0,9291900))"
   ]
  },
  {
   "cell_type": "code",
   "execution_count": null,
   "metadata": {},
   "outputs": [],
   "source": [
    "# Gerando visualização gráfica de EMP_EMPREG\n",
    "px.histogram(df_final, x='EMP_EMPREG', color = 'TARGET', nbins=40, marginal='box', \n",
    "             title = 'Histograma e Boxplot da variável EMP_EMPREG', labels={'EMP_EMPREG': 'Quantidade de Empregados'}, template='plotly_white', \n",
    "             color_discrete_sequence=px.colors.qualitative.T10)"
   ]
  },
  {
   "cell_type": "code",
   "execution_count": null,
   "metadata": {},
   "outputs": [],
   "source": [
    "# Gerando visualização gráfica boxplot de EMP_EMPREG (limite superior Q4 da Classe 0)\n",
    "px.box(df_final, x='EMP_EMPREG', color = 'TARGET', title = 'Boxplot da variável EMP_EMPREG - Corte no 4Q', \n",
    "       labels={'EMP_EMPREG': 'Quantidade de Empregados'}, template='plotly_white', \n",
    "       color_discrete_sequence=px.colors.qualitative.T10, range_x= (0,510))"
   ]
  },
  {
   "cell_type": "code",
   "execution_count": null,
   "metadata": {},
   "outputs": [],
   "source": [
    "# Gerando visualização gráfica de EMP_REC\n",
    "px.histogram(df_final, x='EMP_REC', color = 'TARGET', nbins=40, marginal='box', \n",
    "             title = 'Histograma e Boxplot da variável EMP_REC', labels={'EMP_REC': 'Receita estimada em R$'}, \n",
    "             template='plotly_white', color_discrete_sequence=px.colors.qualitative.T10)"
   ]
  },
  {
   "cell_type": "code",
   "execution_count": null,
   "metadata": {},
   "outputs": [],
   "source": [
    "# Gerando visualização gráfica boxplot de EMP_REC (limite superior Q4 da Classe 0)\n",
    "px.box(df_final, x='EMP_REC', color = 'TARGET', title = 'Boxplot da variável EMP_REC - Corte no 4Q', \n",
    "       labels={'EMP_REC': 'Receita estimada em R$'}, template='plotly_white', \n",
    "       color_discrete_sequence=px.colors.qualitative.T10, range_x= (0,282000000))"
   ]
  },
  {
   "cell_type": "code",
   "execution_count": null,
   "metadata": {},
   "outputs": [],
   "source": [
    "# Gerando visualização gráfica de ANOS_ATIVA\n",
    "px.histogram(df_final, x='ANOS_ATIVA', color = 'TARGET', nbins=40, marginal='box', \n",
    "             title = 'Histograma e Boxplot da variável ANOS_ATIVA', labels={'ANOS_ATIVA': 'Tempo de atividade da empresa em anos'}, template='plotly_white', \n",
    "             color_discrete_sequence=px.colors.qualitative.T10)"
   ]
  },
  {
   "cell_type": "markdown",
   "metadata": {},
   "source": [
    "O desbalanceamento das classes da variável TARGET e a grande amplitude da maior parte das variáveis quantitativas são características inerentes ao problema que nos propusemos a resolver e, portanto, esperadas para a amostra de empresas que trouxemos para estudo."
   ]
  },
  {
   "cell_type": "markdown",
   "metadata": {},
   "source": [
    "Tentaremos ajustar nosso modelo para corrigir esses problemas."
   ]
  },
  {
   "cell_type": "markdown",
   "metadata": {},
   "source": [
    "### 4 - 3  Matriz de Correlação"
   ]
  },
  {
   "cell_type": "code",
   "execution_count": null,
   "metadata": {},
   "outputs": [],
   "source": [
    "# Matriz de correlação das variáveis quantitativas\n",
    "upp_mat = np.triu(df_final.corr())\n",
    "plt.title('Matriz de Correlação')\n",
    "sns.heatmap(df_final.corr(),vmin = -1, vmax=+1, annot= True, cmap = \"coolwarm\", mask = upp_mat)\n",
    "plt.show()"
   ]
  },
  {
   "cell_type": "code",
   "execution_count": null,
   "metadata": {},
   "outputs": [],
   "source": [
    "# Ordenando por índice de correlação\n",
    "df_corr = df_final.corr()\n",
    "(df_corr.pipe(lambda df: pd.DataFrame(np.where(np.triu(np.ones(df.shape, dtype=int), k=1), df, np.nan),index=df.index, columns=df.columns)).stack().dropna().sort_values(ascending=False))"
   ]
  },
  {
   "cell_type": "markdown",
   "metadata": {},
   "source": [
    "Como esperado, observamos maior correlação entre variáveis interdependentes como valor de importação (IMP_VAL) e custo de importação ('IMP_CUSTO') - que representa valor de importações acrescidos dos tributos aduaneiros. A alta correlação sugere a baixa incidência de importações sem tributação ou cobertura cambial e demonstra que uma das variáveis pode ser descartada para o modelo de ML.\n",
    "\n",
    "Mesmo váriáveis que não tem uma interdepenência tão direta apresentaram alguma de correlação, como custo ou valor de importação e volume de importação ou volume de importação e receita - o que faz sentido para empresas e operações reais.\n",
    "\n",
    "A correlação entre as demais variáveis se mostra fraca."
   ]
  }
 ],
 "metadata": {
  "kernelspec": {
   "display_name": "Python 3",
   "language": "python",
   "name": "python3"
  },
  "language_info": {
   "codemirror_mode": {
    "name": "ipython",
    "version": 3
   },
   "file_extension": ".py",
   "mimetype": "text/x-python",
   "name": "python",
   "nbconvert_exporter": "python",
   "pygments_lexer": "ipython3",
   "version": "3.8.5"
  }
 },
 "nbformat": 4,
 "nbformat_minor": 4
}
